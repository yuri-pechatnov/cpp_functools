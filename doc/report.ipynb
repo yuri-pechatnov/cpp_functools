{
 "cells": [
  {
   "cell_type": "markdown",
   "metadata": {},
   "source": [
    "# Patterns of modern c++ library design and their impact on compile times and runtime performance\n",
    "\n"
   ]
  },
  {
   "cell_type": "markdown",
   "metadata": {},
   "source": [
    "### Реализации C++ библиотеки имитирующей стандартные функции из python: enumerate, filter, zip, reversed\n"
   ]
  },
  {
   "cell_type": "markdown",
   "metadata": {},
   "source": [
    "Это основная мотивация этой работы: написать на C++ функции enumerate, filter, zip, reversed такие же как есть в python. Эти функции должны быть удобными, то есть ими должно быть можно пользоваться так же просто как и в python. Далее они должны быть быстрыми, в идеале такими же быстрыми, как код без подобных функций, реализующий такую же логику. И, наконец, они должны быстро компилироваться, так как время компиляции больших проектов оказывает большое влияние на процесс разработки."
   ]
  },
  {
   "cell_type": "markdown",
   "metadata": {},
   "source": [
    "**Обзор существующих решений**\n",
    "\n",
    "Есть несколько библиотек, предоставляющих упомянутые функции:\n",
    "\n",
    " * [boost ranges](https://github.com/boostorg/range)\n",
    " * [range-v3](https://github.com/ericniebler/range-v3)\n",
    " * [think cell](https://github.com/think-cell/range)\n",
    " \n",
    "Но у них есть существенные недостатки: время работы, время компиляции и удобство. В частности, в некоторых из них реализованы не все функции, нет поддержки rvalue контейнеров, некоторые функции долго работают, долго компилируется код с использованием этих функций.\n",
    "\n",
    "Здесь и далее будем сравнивать по набору функций: Zip, Enumerate, Filter, Concatenate, CartesianProduct.\n",
    "\n",
    "|   | Поддержка rvalue контейнеров | Реализованные функции | \n",
    "|---|---|---|\n",
    "| **boost ranges** | нет | Zip, Filter |\n",
    "| **range-v3** | нет | Zip, Enumerate, Filter, Concatenate, CartesianProduct |\n",
    "| **think cell** | есть | Zip, Filter, Concatenate | "
   ]
  },
  {
   "cell_type": "markdown",
   "metadata": {},
   "source": [
    "**Что нового я предлагаю**\n",
    "\n",
    "Библиотека с реализацией всех упомянутых функций, которые поддерживают rvalue аргументы, быстро компилируются и работают. Так же библиотека накладывает минимальные требования на итераторы входных контейнеров, совпадающие с требаваниями для использования контейнера в range-based for. "
   ]
  },
  {
   "cell_type": "markdown",
   "metadata": {},
   "source": [
    "** Текущие результаты **\n",
    "\n",
    "Обозначения:\n",
    " * native - реализация без использования функций на стандартных языковых конструкциях\n",
    " * baseline - реализация с использованием генераторов (объектов, подобных итераторам в python). Использованы sentinel, то есть end() в обертках имеет особый тип, не хранящий никакой информации, не совпадающий с типом begin()\n",
    " * ordinary_view - реализация \"обычным\" способом. begin() и end() имеют один и тот же тип, если begin() и end() входных итераторов имеют один тип. Для этих оберток и их итераторов определен минимальный набор операций и вложенных типов для использования их как аргументов в функциях стандартной библиотеки.\n",
    "\n",
    "<center> Время компиляции </center>\n",
    "\n",
    "![Время компиляции](./pic/compile_report_o2_o3_clang++_prod.png)\n",
    "\n",
    "<center> Время работы </center>\n",
    "\n",
    "![Время работы](./pic/report_o2_o3_clang++_prod.png)\n"
   ]
  },
  {
   "cell_type": "markdown",
   "metadata": {},
   "source": [
    "В ходе работы изучался сгенерированный ассемблерный код, находились способы менять С++ код, чтобы упрощать результат.\n",
    "\n",
    "Самое значительное достижение на данный момент:\n",
    "\n",
    "(Пере)Открыл такой паттерн: пусть вызывается inline функция f с некоторым параметром x. Так же, эта функция может работать намного быстрее при особом значении x. Тогда можно в x внести флаг того, что он является особым значением. Затем в f сделать проверку этого флага и в зависимости от него выполнять функцию по разному.\n",
    "\n",
    "Если код получится не слишком сложным, то оптимизатор, зная, какое значение x подается в f, в конкретном случае вызова вставит код функции с вырезанной проверкой флага и ненужной веткой.\n",
    "\n",
    "То есть получается некоторый аналог if consexpr, без его требований на условие, но целиком полагающийся на оптимизатор.\n",
    "\n",
    "Назовем этот паттерн **zero-cost dispatching by optimized if statement**\n",
    "\n",
    "**Но это необходимо проверить! К сожалению не нашел никаких статей на эту тему**"
   ]
  },
  {
   "cell_type": "markdown",
   "metadata": {},
   "source": [
    "**План дальнейшей работы**\n",
    "\n",
    "* Предложить альтернативную реализацию [range-v3/view](https://github.com/ericniebler/range-v3/tree/master/include/range/v3/view)\n",
    "\n",
    "* Провести профилирование clang, попробовать найти, где именно есть проблемы с производительностью\n",
    "\n",
    "* Продолжить анализировать сгенерированный ассемблерный код, пробовать понять, как стоит изменить C++ код, чтобы улучшить результат его компиляции.\n"
   ]
  },
  {
   "cell_type": "markdown",
   "metadata": {},
   "source": []
  },
  {
   "cell_type": "markdown",
   "metadata": {},
   "source": []
  },
  {
   "cell_type": "code",
   "execution_count": 4,
   "metadata": {},
   "outputs": [
    {
     "data": {
      "application/javascript": [
       "var i = document.createElement(\"img\"); i.src = \"http://localhost:51155/\" + IPython.notebook.notebook_name;"
      ],
      "text/plain": [
       "<IPython.core.display.Javascript object>"
      ]
     },
     "metadata": {},
     "output_type": "display_data"
    },
    {
     "name": "stdout",
     "output_type": "stream",
     "text": [
      "name is found: report.ipynb\n"
     ]
    }
   ],
   "source": [
    "# CONVERT_MD_STOP\n",
    "# some reflection\n",
    "\n",
    "def is_notebook():\n",
    "    try:\n",
    "        return get_ipython().__class__.__name__ == 'ZMQInteractiveShell'\n",
    "    except NameError:\n",
    "        return False      \n",
    "    \n",
    "    \n",
    "if not is_notebook():\n",
    "    def get_ipython():\n",
    "        class Mock:\n",
    "            def run_cell_magic(*args):\n",
    "                pass\n",
    "            def system(self, arg):\n",
    "                os.system(arg)\n",
    "                \n",
    "        return Mock()\n",
    "    \n",
    "    \n",
    "def find_nb_name():\n",
    "    from http.server import BaseHTTPRequestHandler, HTTPServer # python3\n",
    "    class HandleRequests(BaseHTTPRequestHandler):\n",
    "        def do_GET(self):\n",
    "            global nb_name\n",
    "            nb_name = self.requestline.split()[1][1:]\n",
    "            print(\"name is found: \" + nb_name)\n",
    "\n",
    "    import socket\n",
    "    from contextlib import closing\n",
    "\n",
    "    def find_free_port():\n",
    "        with closing(socket.socket(socket.AF_INET, socket.SOCK_STREAM)) as s:\n",
    "            s.bind(('',0))\n",
    "            return s.getsockname()[1]\n",
    "\n",
    "    host = ''\n",
    "    port = find_free_port()\n",
    "    server = HTTPServer((host, port), HandleRequests)\n",
    "    server.server_activate()#.serve_forever()\n",
    "    get_ipython().run_cell_magic('javascript', '', 'var i = document.createElement(\"img\");' + \n",
    "                                 ' i.src = \"http://localhost:' + str(port) + \n",
    "                                '/\" + IPython.notebook.notebook_name;')\n",
    "    server.handle_request()\n",
    "    \n",
    "    \n",
    "nb_name = None\n",
    "if is_notebook():\n",
    "    find_nb_name()"
   ]
  },
  {
   "cell_type": "code",
   "execution_count": 13,
   "metadata": {},
   "outputs": [
    {
     "name": "stdout",
     "output_type": "stream",
     "text": [
      "[NbConvertApp] Converting notebook report.ipynb to markdown\n",
      "[NbConvertApp] Writing 6031 bytes to README.md\n"
     ]
    }
   ],
   "source": [
    "fname = \"README.md\"\n",
    "get_ipython().system(f\"jupyter nbconvert {nb_name} --to markdown --output {fname}\")\n",
    "with open(fname, \"r\") as f:\n",
    "    data = f.read()\n",
    "data = data[:data.find(\"CONVERT_MD_STOP\") - 12]\n",
    "with open(fname, \"w\") as f:\n",
    "    f.write(data)\n"
   ]
  },
  {
   "cell_type": "code",
   "execution_count": null,
   "metadata": {
    "scrolled": true
   },
   "outputs": [],
   "source": []
  }
 ],
 "metadata": {
  "kernelspec": {
   "display_name": "Python 3",
   "language": "python",
   "name": "python3"
  },
  "language_info": {
   "codemirror_mode": {
    "name": "ipython",
    "version": 3
   },
   "file_extension": ".py",
   "mimetype": "text/x-python",
   "name": "python",
   "nbconvert_exporter": "python",
   "pygments_lexer": "ipython3",
   "version": "3.6.3"
  }
 },
 "nbformat": 4,
 "nbformat_minor": 2
}
