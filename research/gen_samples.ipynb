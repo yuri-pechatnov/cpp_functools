{
 "cells": [
  {
   "cell_type": "code",
   "execution_count": null,
   "metadata": {},
   "outputs": [],
   "source": []
  },
  {
   "cell_type": "code",
   "execution_count": 36,
   "metadata": {},
   "outputs": [
    {
     "name": "stdout",
     "output_type": "stream",
     "text": [
      "\n",
      "template <typename T0,typename T1>\n",
      "struct TSimpleTemplateStruct {};\n",
      "TSimpleTemplateStruct<char, char> Var0;\n",
      "TSimpleTemplateStruct<int, char> Var1;\n"
     ]
    }
   ],
   "source": [
    "import random\n",
    "\n",
    "def gen_struct_template_params_sample(params_count, use_count):\n",
    "    params = [f\"T{i}\" for i in range(params_count)]\n",
    "    def random_type(i, argn):\n",
    "        if argn < 60:\n",
    "            return \"int\" if (i >> argn) & 1 else \"char\"\n",
    "        return \"int\" if random.random() < 0.5 else \"char\"\n",
    "    types_list = \",\".join(f'typename {t}' for t in params)\n",
    "    args_lists = [\n",
    "        \", \".join(random_type(i, ti) for ti in range(params_count))\n",
    "        for i in range(use_count)\n",
    "    ]\n",
    "    code = f'''\n",
    "    template <{types_list}>\n",
    "    struct TSimpleTemplateStruct {{}};\n",
    "    ''' + \"\\n\".join(\n",
    "        f\"TSimpleTemplateStruct<{arg_list}> Var{i};\"\n",
    "        for i, arg_list in enumerate(args_lists)\n",
    "    )\n",
    "    return code.replace(' ' * 4, '')\n",
    "  \n",
    "print(gen_struct_template_params_sample(2, 2))"
   ]
  },
  {
   "cell_type": "code",
   "execution_count": 37,
   "metadata": {},
   "outputs": [],
   "source": [
    "def check_code(code):\n",
    "    with open(\"s1.cpp\", \"w\") as f:\n",
    "        f.write(code)\n",
    "    get_ipython().run_cell(\"!clang++ -S -emit-llvm s1.cpp\")"
   ]
  },
  {
   "cell_type": "code",
   "execution_count": 38,
   "metadata": {},
   "outputs": [],
   "source": [
    "check_code(gen_struct_template_params_sample(2, 2))"
   ]
  },
  {
   "cell_type": "code",
   "execution_count": 34,
   "metadata": {},
   "outputs": [
    {
     "name": "stdout",
     "output_type": "stream",
     "text": [
      "\n",
      "template <typename T0,typename T1>\n",
      "void function(T0 varT0,T1 varT1) {};\n",
      "\n",
      "int var_1 = (\n",
      "function<char, char>(0, 0),function<int, char>(0, 0)\n",
      ", 0);\n",
      "\n"
     ]
    }
   ],
   "source": [
    "def gen_function_template_params_sample(params_count, use_count):\n",
    "    params = [f\"T{i}\" for i in range(params_count)]\n",
    "    def random_type(i, argn):\n",
    "        if argn < 60:\n",
    "            return \"int\" if (i >> argn) & 1 else \"char\"\n",
    "        return \"int\" if random.random() < 0.5 else \"char\"\n",
    "    types_list = \",\".join(f'typename {t}' for t in params)\n",
    "    decl_args_list = \",\".join(f'{t} var{t}' for t in params)\n",
    "    template_args_lists = [\n",
    "        \", \".join(random_type(i, ti) for ti in range(params_count))\n",
    "        for i in range(use_count)\n",
    "    ]\n",
    "    args_list = \", \".join(\"0\" for t in params)\n",
    "    code = f'''\n",
    "    template <{types_list}>\n",
    "    void function({decl_args_list}) {{}};\n",
    "    \n",
    "    int var_1 = (\n",
    "    ''' + \",\".join(\n",
    "        f\"function<{template_arg_list}>({args_list})\"\n",
    "        for i, template_arg_list in enumerate(template_args_lists)\n",
    "    ) + '''\n",
    "    , 0);\n",
    "    '''\n",
    "    return code.replace(' ' * 4, '')\n",
    "\n",
    "print(gen_function_template_params_sample(2, 2))"
   ]
  },
  {
   "cell_type": "code",
   "execution_count": 39,
   "metadata": {},
   "outputs": [],
   "source": [
    "check_code(gen_function_template_params_sample(2, 2))"
   ]
  },
  {
   "cell_type": "code",
   "execution_count": null,
   "metadata": {},
   "outputs": [],
   "source": []
  },
  {
   "cell_type": "code",
   "execution_count": null,
   "metadata": {},
   "outputs": [],
   "source": []
  },
  {
   "cell_type": "code",
   "execution_count": null,
   "metadata": {},
   "outputs": [],
   "source": []
  }
 ],
 "metadata": {
  "kernelspec": {
   "display_name": "Python 3",
   "language": "python",
   "name": "python3"
  },
  "language_info": {
   "codemirror_mode": {
    "name": "ipython",
    "version": 3
   },
   "file_extension": ".py",
   "mimetype": "text/x-python",
   "name": "python",
   "nbconvert_exporter": "python",
   "pygments_lexer": "ipython3",
   "version": "3.7.4"
  }
 },
 "nbformat": 4,
 "nbformat_minor": 2
}
