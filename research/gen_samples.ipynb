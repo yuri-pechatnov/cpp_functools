{
 "cells": [
  {
   "cell_type": "code",
   "execution_count": 3,
   "metadata": {},
   "outputs": [],
   "source": [
    "# Set up tmpfs\n",
    "# sudo mkdir /my_tmpfs\n",
    "# sudo mount -t tmpfs -o size=10M tmpfs /my_tmpfs/\n",
    "# cd /my_tmpfs/"
   ]
  },
  {
   "cell_type": "code",
   "execution_count": 1,
   "metadata": {},
   "outputs": [],
   "source": [
    "import numpy as np\n",
    "import random\n",
    "import subprocess\n",
    "from collections import namedtuple\n",
    "import pandas as pd\n",
    "from IPython.display import display\n",
    "import scipy\n",
    "from sklearn.linear_model import LinearRegression\n",
    "from tqdm.notebook import tqdm\n",
    "from textwrap import dedent\n",
    "\n",
    "fast_run = False\n",
    "\n",
    "\n",
    "def check_code(code):\n",
    "    with open(\"s1.cpp\", \"w\") as f:\n",
    "        f.write(code)\n",
    "    get_ipython().run_cell(\"!taskset 0x4 perf stat -r 1 -x, --metric-only -M instructions clang++ -S -emit-llvm s1.cpp\")\n",
    "    \n",
    "\n",
    "# def check_code(code):\n",
    "#     with open(\"s1.cpp\", \"w\") as f:\n",
    "#         f.write(code)\n",
    "#     get_ipython().run_cell(\"!taskset 0x4 perf stat -r 1 -x, --metric-only -M instructions g++ -c s1.cpp\")\n",
    "    \n",
    "\n",
    "    \n",
    "def bench_instructions_clang(code):\n",
    "    with open(\"s1.cpp\", \"w\") as f:\n",
    "        f.write(code)\n",
    "    cmd = 'taskset 0x4 perf stat -r 1 -x, --metric-only -M instructions clang++ -S -emit-llvm s1.cpp'.split()\n",
    "    out = subprocess.check_output(cmd, stderr=subprocess.STDOUT).decode()\n",
    "    return float(out.split(',')[1])\n",
    "\n",
    "\n",
    "# def bench_instructions_clang(code):\n",
    "#     with open(\"s1.cpp\", \"w\") as f:\n",
    "#         f.write(code)\n",
    "#     cmd = 'taskset 0x4 perf stat -r 1 -x, --metric-only -M instructions g++ -c s1.cpp'.split()\n",
    "#     out = subprocess.check_output(cmd, stderr=subprocess.STDOUT).decode()\n",
    "#     return float(out.split(',')[1])\n",
    "\n",
    "\n",
    "BenchResult = namedtuple(\"BenchResult\", [\"value\", \"err\"])\n",
    "\n",
    "def bench_repeated(method, code, iters=None):\n",
    "    iters = iters or (1 if fast_run else 100)\n",
    "    elements = [method(code) for i in range(iters)]\n",
    "    a = np.array(sorted(elements))[:int(len(elements) * 0.75 + 1)]\n",
    "    return BenchResult(value=np.mean(a), err=((np.var(a) / iters) ** 0.5))\n",
    "   \n",
    "def subdict(d, keys):\n",
    "    return {k: d[k] for k in keys}\n",
    "\n",
    "def make_task(f, **args):\n",
    "    return lambda args=args: f(**args)\n",
    "\n",
    "def eval_tasks(tasks):\n",
    "    data = []\n",
    "    for t in tqdm(tasks): \n",
    "        task_res = t[\"task\"]()\n",
    "        res = dict(t[\"params\"])\n",
    "        res.update(\n",
    "            value=task_res.value,\n",
    "            err=task_res.err,\n",
    "        )\n",
    "        data.append(res)\n",
    "    return pd.DataFrame(data)"
   ]
  },
  {
   "cell_type": "markdown",
   "metadata": {},
   "source": [
    "# Стоимость инстанциации и обращения к шаблонной структуре (1 параметр). Сравнение в constexpr функцией"
   ]
  },
  {
   "cell_type": "code",
   "execution_count": 3,
   "metadata": {
    "scrolled": false
   },
   "outputs": [
    {
     "name": "stdout",
     "output_type": "stream",
     "text": [
      "Instructions,\n",
      "124730227,\n",
      "Instructions,\n",
      "80898150,\n",
      "Instructions,\n",
      "79084893,\n",
      "Instructions,\n",
      "79216682,\n"
     ]
    },
    {
     "data": {
      "application/vnd.jupyter.widget-view+json": {
       "model_id": "fa6096fdc06b499097dbd888b707a0c8",
       "version_major": 2,
       "version_minor": 0
      },
      "text/plain": [
       "HBox(children=(FloatProgress(value=0.0, max=300.0), HTML(value='')))"
      ]
     },
     "metadata": {},
     "output_type": "display_data"
    },
    {
     "ename": "KeyboardInterrupt",
     "evalue": "",
     "output_type": "error",
     "traceback": [
      "\u001b[0;31m---------------------------------------------------------------------------\u001b[0m",
      "\u001b[0;31mKeyboardInterrupt\u001b[0m                         Traceback (most recent call last)",
      "\u001b[0;32m<ipython-input-3-446140cba5b2>\u001b[0m in \u001b[0;36m<module>\u001b[0;34m\u001b[0m\n\u001b[1;32m     62\u001b[0m         })\n\u001b[1;32m     63\u001b[0m \u001b[0;34m\u001b[0m\u001b[0m\n\u001b[0;32m---> 64\u001b[0;31m \u001b[0mdf\u001b[0m \u001b[0;34m=\u001b[0m \u001b[0meval_tasks\u001b[0m\u001b[0;34m(\u001b[0m\u001b[0mtasks\u001b[0m\u001b[0;34m)\u001b[0m\u001b[0;34m\u001b[0m\u001b[0;34m\u001b[0m\u001b[0m\n\u001b[0m",
      "\u001b[0;32m<ipython-input-1-c8a0225584a5>\u001b[0m in \u001b[0;36meval_tasks\u001b[0;34m(tasks)\u001b[0m\n\u001b[1;32m     59\u001b[0m     \u001b[0mdata\u001b[0m \u001b[0;34m=\u001b[0m \u001b[0;34m[\u001b[0m\u001b[0;34m]\u001b[0m\u001b[0;34m\u001b[0m\u001b[0;34m\u001b[0m\u001b[0m\n\u001b[1;32m     60\u001b[0m     \u001b[0;32mfor\u001b[0m \u001b[0mt\u001b[0m \u001b[0;32min\u001b[0m \u001b[0mtqdm\u001b[0m\u001b[0;34m(\u001b[0m\u001b[0mtasks\u001b[0m\u001b[0;34m)\u001b[0m\u001b[0;34m:\u001b[0m\u001b[0;34m\u001b[0m\u001b[0;34m\u001b[0m\u001b[0m\n\u001b[0;32m---> 61\u001b[0;31m         \u001b[0mtask_res\u001b[0m \u001b[0;34m=\u001b[0m \u001b[0mt\u001b[0m\u001b[0;34m[\u001b[0m\u001b[0;34m\"task\"\u001b[0m\u001b[0;34m]\u001b[0m\u001b[0;34m(\u001b[0m\u001b[0;34m)\u001b[0m\u001b[0;34m\u001b[0m\u001b[0;34m\u001b[0m\u001b[0m\n\u001b[0m\u001b[1;32m     62\u001b[0m         \u001b[0mres\u001b[0m \u001b[0;34m=\u001b[0m \u001b[0mdict\u001b[0m\u001b[0;34m(\u001b[0m\u001b[0mt\u001b[0m\u001b[0;34m[\u001b[0m\u001b[0;34m\"params\"\u001b[0m\u001b[0;34m]\u001b[0m\u001b[0;34m)\u001b[0m\u001b[0;34m\u001b[0m\u001b[0;34m\u001b[0m\u001b[0m\n\u001b[1;32m     63\u001b[0m         res.update(\n",
      "\u001b[0;32m<ipython-input-1-c8a0225584a5>\u001b[0m in \u001b[0;36m<lambda>\u001b[0;34m(args)\u001b[0m\n\u001b[1;32m     54\u001b[0m \u001b[0;34m\u001b[0m\u001b[0m\n\u001b[1;32m     55\u001b[0m \u001b[0;32mdef\u001b[0m \u001b[0mmake_task\u001b[0m\u001b[0;34m(\u001b[0m\u001b[0mf\u001b[0m\u001b[0;34m,\u001b[0m \u001b[0;34m**\u001b[0m\u001b[0margs\u001b[0m\u001b[0;34m)\u001b[0m\u001b[0;34m:\u001b[0m\u001b[0;34m\u001b[0m\u001b[0;34m\u001b[0m\u001b[0m\n\u001b[0;32m---> 56\u001b[0;31m     \u001b[0;32mreturn\u001b[0m \u001b[0;32mlambda\u001b[0m \u001b[0margs\u001b[0m\u001b[0;34m=\u001b[0m\u001b[0margs\u001b[0m\u001b[0;34m:\u001b[0m \u001b[0mf\u001b[0m\u001b[0;34m(\u001b[0m\u001b[0;34m**\u001b[0m\u001b[0margs\u001b[0m\u001b[0;34m)\u001b[0m\u001b[0;34m\u001b[0m\u001b[0;34m\u001b[0m\u001b[0m\n\u001b[0m\u001b[1;32m     57\u001b[0m \u001b[0;34m\u001b[0m\u001b[0m\n\u001b[1;32m     58\u001b[0m \u001b[0;32mdef\u001b[0m \u001b[0meval_tasks\u001b[0m\u001b[0;34m(\u001b[0m\u001b[0mtasks\u001b[0m\u001b[0;34m)\u001b[0m\u001b[0;34m:\u001b[0m\u001b[0;34m\u001b[0m\u001b[0;34m\u001b[0m\u001b[0m\n",
      "\u001b[0;32m<ipython-input-1-c8a0225584a5>\u001b[0m in \u001b[0;36mbench_repeated\u001b[0;34m(method, code, iters)\u001b[0m\n\u001b[1;32m     46\u001b[0m \u001b[0;32mdef\u001b[0m \u001b[0mbench_repeated\u001b[0m\u001b[0;34m(\u001b[0m\u001b[0mmethod\u001b[0m\u001b[0;34m,\u001b[0m \u001b[0mcode\u001b[0m\u001b[0;34m,\u001b[0m \u001b[0miters\u001b[0m\u001b[0;34m=\u001b[0m\u001b[0;32mNone\u001b[0m\u001b[0;34m)\u001b[0m\u001b[0;34m:\u001b[0m\u001b[0;34m\u001b[0m\u001b[0;34m\u001b[0m\u001b[0m\n\u001b[1;32m     47\u001b[0m     \u001b[0miters\u001b[0m \u001b[0;34m=\u001b[0m \u001b[0miters\u001b[0m \u001b[0;32mor\u001b[0m \u001b[0;34m(\u001b[0m\u001b[0;36m1\u001b[0m \u001b[0;32mif\u001b[0m \u001b[0mfast_run\u001b[0m \u001b[0;32melse\u001b[0m \u001b[0;36m100\u001b[0m\u001b[0;34m)\u001b[0m\u001b[0;34m\u001b[0m\u001b[0;34m\u001b[0m\u001b[0m\n\u001b[0;32m---> 48\u001b[0;31m     \u001b[0melements\u001b[0m \u001b[0;34m=\u001b[0m \u001b[0;34m[\u001b[0m\u001b[0mmethod\u001b[0m\u001b[0;34m(\u001b[0m\u001b[0mcode\u001b[0m\u001b[0;34m)\u001b[0m \u001b[0;32mfor\u001b[0m \u001b[0mi\u001b[0m \u001b[0;32min\u001b[0m \u001b[0mrange\u001b[0m\u001b[0;34m(\u001b[0m\u001b[0miters\u001b[0m\u001b[0;34m)\u001b[0m\u001b[0;34m]\u001b[0m\u001b[0;34m\u001b[0m\u001b[0;34m\u001b[0m\u001b[0m\n\u001b[0m\u001b[1;32m     49\u001b[0m     \u001b[0ma\u001b[0m \u001b[0;34m=\u001b[0m \u001b[0mnp\u001b[0m\u001b[0;34m.\u001b[0m\u001b[0marray\u001b[0m\u001b[0;34m(\u001b[0m\u001b[0msorted\u001b[0m\u001b[0;34m(\u001b[0m\u001b[0melements\u001b[0m\u001b[0;34m)\u001b[0m\u001b[0;34m)\u001b[0m\u001b[0;34m[\u001b[0m\u001b[0;34m:\u001b[0m\u001b[0mint\u001b[0m\u001b[0;34m(\u001b[0m\u001b[0mlen\u001b[0m\u001b[0;34m(\u001b[0m\u001b[0melements\u001b[0m\u001b[0;34m)\u001b[0m \u001b[0;34m*\u001b[0m \u001b[0;36m0.75\u001b[0m \u001b[0;34m+\u001b[0m \u001b[0;36m1\u001b[0m\u001b[0;34m)\u001b[0m\u001b[0;34m]\u001b[0m\u001b[0;34m\u001b[0m\u001b[0;34m\u001b[0m\u001b[0m\n\u001b[1;32m     50\u001b[0m     \u001b[0;32mreturn\u001b[0m \u001b[0mBenchResult\u001b[0m\u001b[0;34m(\u001b[0m\u001b[0mvalue\u001b[0m\u001b[0;34m=\u001b[0m\u001b[0mnp\u001b[0m\u001b[0;34m.\u001b[0m\u001b[0mmean\u001b[0m\u001b[0;34m(\u001b[0m\u001b[0ma\u001b[0m\u001b[0;34m)\u001b[0m\u001b[0;34m,\u001b[0m \u001b[0merr\u001b[0m\u001b[0;34m=\u001b[0m\u001b[0;34m(\u001b[0m\u001b[0;34m(\u001b[0m\u001b[0mnp\u001b[0m\u001b[0;34m.\u001b[0m\u001b[0mvar\u001b[0m\u001b[0;34m(\u001b[0m\u001b[0ma\u001b[0m\u001b[0;34m)\u001b[0m \u001b[0;34m/\u001b[0m \u001b[0miters\u001b[0m\u001b[0;34m)\u001b[0m \u001b[0;34m**\u001b[0m \u001b[0;36m0.5\u001b[0m\u001b[0;34m)\u001b[0m\u001b[0;34m)\u001b[0m\u001b[0;34m\u001b[0m\u001b[0;34m\u001b[0m\u001b[0m\n",
      "\u001b[0;32m<ipython-input-1-c8a0225584a5>\u001b[0m in \u001b[0;36m<listcomp>\u001b[0;34m(.0)\u001b[0m\n\u001b[1;32m     46\u001b[0m \u001b[0;32mdef\u001b[0m \u001b[0mbench_repeated\u001b[0m\u001b[0;34m(\u001b[0m\u001b[0mmethod\u001b[0m\u001b[0;34m,\u001b[0m \u001b[0mcode\u001b[0m\u001b[0;34m,\u001b[0m \u001b[0miters\u001b[0m\u001b[0;34m=\u001b[0m\u001b[0;32mNone\u001b[0m\u001b[0;34m)\u001b[0m\u001b[0;34m:\u001b[0m\u001b[0;34m\u001b[0m\u001b[0;34m\u001b[0m\u001b[0m\n\u001b[1;32m     47\u001b[0m     \u001b[0miters\u001b[0m \u001b[0;34m=\u001b[0m \u001b[0miters\u001b[0m \u001b[0;32mor\u001b[0m \u001b[0;34m(\u001b[0m\u001b[0;36m1\u001b[0m \u001b[0;32mif\u001b[0m \u001b[0mfast_run\u001b[0m \u001b[0;32melse\u001b[0m \u001b[0;36m100\u001b[0m\u001b[0;34m)\u001b[0m\u001b[0;34m\u001b[0m\u001b[0;34m\u001b[0m\u001b[0m\n\u001b[0;32m---> 48\u001b[0;31m     \u001b[0melements\u001b[0m \u001b[0;34m=\u001b[0m \u001b[0;34m[\u001b[0m\u001b[0mmethod\u001b[0m\u001b[0;34m(\u001b[0m\u001b[0mcode\u001b[0m\u001b[0;34m)\u001b[0m \u001b[0;32mfor\u001b[0m \u001b[0mi\u001b[0m \u001b[0;32min\u001b[0m \u001b[0mrange\u001b[0m\u001b[0;34m(\u001b[0m\u001b[0miters\u001b[0m\u001b[0;34m)\u001b[0m\u001b[0;34m]\u001b[0m\u001b[0;34m\u001b[0m\u001b[0;34m\u001b[0m\u001b[0m\n\u001b[0m\u001b[1;32m     49\u001b[0m     \u001b[0ma\u001b[0m \u001b[0;34m=\u001b[0m \u001b[0mnp\u001b[0m\u001b[0;34m.\u001b[0m\u001b[0marray\u001b[0m\u001b[0;34m(\u001b[0m\u001b[0msorted\u001b[0m\u001b[0;34m(\u001b[0m\u001b[0melements\u001b[0m\u001b[0;34m)\u001b[0m\u001b[0;34m)\u001b[0m\u001b[0;34m[\u001b[0m\u001b[0;34m:\u001b[0m\u001b[0mint\u001b[0m\u001b[0;34m(\u001b[0m\u001b[0mlen\u001b[0m\u001b[0;34m(\u001b[0m\u001b[0melements\u001b[0m\u001b[0;34m)\u001b[0m \u001b[0;34m*\u001b[0m \u001b[0;36m0.75\u001b[0m \u001b[0;34m+\u001b[0m \u001b[0;36m1\u001b[0m\u001b[0;34m)\u001b[0m\u001b[0;34m]\u001b[0m\u001b[0;34m\u001b[0m\u001b[0;34m\u001b[0m\u001b[0m\n\u001b[1;32m     50\u001b[0m     \u001b[0;32mreturn\u001b[0m \u001b[0mBenchResult\u001b[0m\u001b[0;34m(\u001b[0m\u001b[0mvalue\u001b[0m\u001b[0;34m=\u001b[0m\u001b[0mnp\u001b[0m\u001b[0;34m.\u001b[0m\u001b[0mmean\u001b[0m\u001b[0;34m(\u001b[0m\u001b[0ma\u001b[0m\u001b[0;34m)\u001b[0m\u001b[0;34m,\u001b[0m \u001b[0merr\u001b[0m\u001b[0;34m=\u001b[0m\u001b[0;34m(\u001b[0m\u001b[0;34m(\u001b[0m\u001b[0mnp\u001b[0m\u001b[0;34m.\u001b[0m\u001b[0mvar\u001b[0m\u001b[0;34m(\u001b[0m\u001b[0ma\u001b[0m\u001b[0;34m)\u001b[0m \u001b[0;34m/\u001b[0m \u001b[0miters\u001b[0m\u001b[0;34m)\u001b[0m \u001b[0;34m**\u001b[0m \u001b[0;36m0.5\u001b[0m\u001b[0;34m)\u001b[0m\u001b[0;34m)\u001b[0m\u001b[0;34m\u001b[0m\u001b[0;34m\u001b[0m\u001b[0m\n",
      "\u001b[0;32m<ipython-input-1-c8a0225584a5>\u001b[0m in \u001b[0;36mbench_instructions_clang\u001b[0;34m(code)\u001b[0m\n\u001b[1;32m     30\u001b[0m         \u001b[0mf\u001b[0m\u001b[0;34m.\u001b[0m\u001b[0mwrite\u001b[0m\u001b[0;34m(\u001b[0m\u001b[0mcode\u001b[0m\u001b[0;34m)\u001b[0m\u001b[0;34m\u001b[0m\u001b[0;34m\u001b[0m\u001b[0m\n\u001b[1;32m     31\u001b[0m     \u001b[0mcmd\u001b[0m \u001b[0;34m=\u001b[0m \u001b[0;34m'taskset 0x4 perf stat -r 1 -x, --metric-only -M instructions clang++ -S -emit-llvm s1.cpp'\u001b[0m\u001b[0;34m.\u001b[0m\u001b[0msplit\u001b[0m\u001b[0;34m(\u001b[0m\u001b[0;34m)\u001b[0m\u001b[0;34m\u001b[0m\u001b[0;34m\u001b[0m\u001b[0m\n\u001b[0;32m---> 32\u001b[0;31m     \u001b[0mout\u001b[0m \u001b[0;34m=\u001b[0m \u001b[0msubprocess\u001b[0m\u001b[0;34m.\u001b[0m\u001b[0mcheck_output\u001b[0m\u001b[0;34m(\u001b[0m\u001b[0mcmd\u001b[0m\u001b[0;34m,\u001b[0m \u001b[0mstderr\u001b[0m\u001b[0;34m=\u001b[0m\u001b[0msubprocess\u001b[0m\u001b[0;34m.\u001b[0m\u001b[0mSTDOUT\u001b[0m\u001b[0;34m)\u001b[0m\u001b[0;34m.\u001b[0m\u001b[0mdecode\u001b[0m\u001b[0;34m(\u001b[0m\u001b[0;34m)\u001b[0m\u001b[0;34m\u001b[0m\u001b[0;34m\u001b[0m\u001b[0m\n\u001b[0m\u001b[1;32m     33\u001b[0m     \u001b[0;32mreturn\u001b[0m \u001b[0mfloat\u001b[0m\u001b[0;34m(\u001b[0m\u001b[0mout\u001b[0m\u001b[0;34m.\u001b[0m\u001b[0msplit\u001b[0m\u001b[0;34m(\u001b[0m\u001b[0;34m','\u001b[0m\u001b[0;34m)\u001b[0m\u001b[0;34m[\u001b[0m\u001b[0;36m1\u001b[0m\u001b[0;34m]\u001b[0m\u001b[0;34m)\u001b[0m\u001b[0;34m\u001b[0m\u001b[0;34m\u001b[0m\u001b[0m\n\u001b[1;32m     34\u001b[0m \u001b[0;34m\u001b[0m\u001b[0m\n",
      "\u001b[0;32m/usr/lib/python3.6/subprocess.py\u001b[0m in \u001b[0;36mcheck_output\u001b[0;34m(timeout, *popenargs, **kwargs)\u001b[0m\n\u001b[1;32m    354\u001b[0m \u001b[0;34m\u001b[0m\u001b[0m\n\u001b[1;32m    355\u001b[0m     return run(*popenargs, stdout=PIPE, timeout=timeout, check=True,\n\u001b[0;32m--> 356\u001b[0;31m                **kwargs).stdout\n\u001b[0m\u001b[1;32m    357\u001b[0m \u001b[0;34m\u001b[0m\u001b[0m\n\u001b[1;32m    358\u001b[0m \u001b[0;34m\u001b[0m\u001b[0m\n",
      "\u001b[0;32m/usr/lib/python3.6/subprocess.py\u001b[0m in \u001b[0;36mrun\u001b[0;34m(input, timeout, check, *popenargs, **kwargs)\u001b[0m\n\u001b[1;32m    423\u001b[0m     \u001b[0;32mwith\u001b[0m \u001b[0mPopen\u001b[0m\u001b[0;34m(\u001b[0m\u001b[0;34m*\u001b[0m\u001b[0mpopenargs\u001b[0m\u001b[0;34m,\u001b[0m \u001b[0;34m**\u001b[0m\u001b[0mkwargs\u001b[0m\u001b[0;34m)\u001b[0m \u001b[0;32mas\u001b[0m \u001b[0mprocess\u001b[0m\u001b[0;34m:\u001b[0m\u001b[0;34m\u001b[0m\u001b[0;34m\u001b[0m\u001b[0m\n\u001b[1;32m    424\u001b[0m         \u001b[0;32mtry\u001b[0m\u001b[0;34m:\u001b[0m\u001b[0;34m\u001b[0m\u001b[0;34m\u001b[0m\u001b[0m\n\u001b[0;32m--> 425\u001b[0;31m             \u001b[0mstdout\u001b[0m\u001b[0;34m,\u001b[0m \u001b[0mstderr\u001b[0m \u001b[0;34m=\u001b[0m \u001b[0mprocess\u001b[0m\u001b[0;34m.\u001b[0m\u001b[0mcommunicate\u001b[0m\u001b[0;34m(\u001b[0m\u001b[0minput\u001b[0m\u001b[0;34m,\u001b[0m \u001b[0mtimeout\u001b[0m\u001b[0;34m=\u001b[0m\u001b[0mtimeout\u001b[0m\u001b[0;34m)\u001b[0m\u001b[0;34m\u001b[0m\u001b[0;34m\u001b[0m\u001b[0m\n\u001b[0m\u001b[1;32m    426\u001b[0m         \u001b[0;32mexcept\u001b[0m \u001b[0mTimeoutExpired\u001b[0m\u001b[0;34m:\u001b[0m\u001b[0;34m\u001b[0m\u001b[0;34m\u001b[0m\u001b[0m\n\u001b[1;32m    427\u001b[0m             \u001b[0mprocess\u001b[0m\u001b[0;34m.\u001b[0m\u001b[0mkill\u001b[0m\u001b[0;34m(\u001b[0m\u001b[0;34m)\u001b[0m\u001b[0;34m\u001b[0m\u001b[0;34m\u001b[0m\u001b[0m\n",
      "\u001b[0;32m/usr/lib/python3.6/subprocess.py\u001b[0m in \u001b[0;36mcommunicate\u001b[0;34m(self, input, timeout)\u001b[0m\n\u001b[1;32m    848\u001b[0m                 \u001b[0mself\u001b[0m\u001b[0;34m.\u001b[0m\u001b[0m_stdin_write\u001b[0m\u001b[0;34m(\u001b[0m\u001b[0minput\u001b[0m\u001b[0;34m)\u001b[0m\u001b[0;34m\u001b[0m\u001b[0;34m\u001b[0m\u001b[0m\n\u001b[1;32m    849\u001b[0m             \u001b[0;32melif\u001b[0m \u001b[0mself\u001b[0m\u001b[0;34m.\u001b[0m\u001b[0mstdout\u001b[0m\u001b[0;34m:\u001b[0m\u001b[0;34m\u001b[0m\u001b[0;34m\u001b[0m\u001b[0m\n\u001b[0;32m--> 850\u001b[0;31m                 \u001b[0mstdout\u001b[0m \u001b[0;34m=\u001b[0m \u001b[0mself\u001b[0m\u001b[0;34m.\u001b[0m\u001b[0mstdout\u001b[0m\u001b[0;34m.\u001b[0m\u001b[0mread\u001b[0m\u001b[0;34m(\u001b[0m\u001b[0;34m)\u001b[0m\u001b[0;34m\u001b[0m\u001b[0;34m\u001b[0m\u001b[0m\n\u001b[0m\u001b[1;32m    851\u001b[0m                 \u001b[0mself\u001b[0m\u001b[0;34m.\u001b[0m\u001b[0mstdout\u001b[0m\u001b[0;34m.\u001b[0m\u001b[0mclose\u001b[0m\u001b[0;34m(\u001b[0m\u001b[0;34m)\u001b[0m\u001b[0;34m\u001b[0m\u001b[0;34m\u001b[0m\u001b[0m\n\u001b[1;32m    852\u001b[0m             \u001b[0;32melif\u001b[0m \u001b[0mself\u001b[0m\u001b[0;34m.\u001b[0m\u001b[0mstderr\u001b[0m\u001b[0;34m:\u001b[0m\u001b[0;34m\u001b[0m\u001b[0;34m\u001b[0m\u001b[0m\n",
      "\u001b[0;31mKeyboardInterrupt\u001b[0m: "
     ]
    }
   ],
   "source": [
    "def gen_struct_template_instantiation(bench_type, var_1_count, vars_count):\n",
    "    struct_and_f = dedent(\"\"\"\\\n",
    "        template <int a>\n",
    "        struct TInc {\n",
    "            static constexpr int r = a + 1;\n",
    "        };\n",
    "        template <int a>\n",
    "        using TIncUsing = TInc<a>;\n",
    "        \n",
    "        constexpr int inc(int a) { return a + 1; }\n",
    "        \n",
    "        template <int a>\n",
    "        constexpr int inc_t() { return a + 1; }\n",
    "        \n",
    "        constexpr int init_s = TInc<0>::r;\n",
    "        constexpr int init_f = inc(0);\n",
    "        \"\"\")\n",
    "    if bench_type == 0:\n",
    "        variables_1 = \"\\n\".join(f\"constexpr int var_0_{i} = TInc<0>::r;\" for i in range(var_1_count))\n",
    "        variables = \"\\n\".join(f\"constexpr int var_{i} = TInc<{i}>::r;\" for i in range(vars_count))\n",
    "    elif bench_type == 1:\n",
    "        variables_1 = \"\\n\".join(f\"constexpr int var_0_{i} = TIncUsing<0>::r;\" for i in range(var_1_count))\n",
    "        variables = \"\\n\".join(f\"constexpr int var_{i} = TIncUsing<{i}>::r;\" for i in range(vars_count))\n",
    "    elif bench_type == 2:\n",
    "        variables_1 = \"\\n\".join(f\"constexpr int var_0_{i} = inc(0);\" for i in range(var_1_count))\n",
    "        variables = \"\\n\".join(f\"constexpr int var_{i} = int({i});\" for i in range(vars_count))\n",
    "    elif bench_type == 3:\n",
    "        variables_1 = \"\\n\".join(f\"constexpr int var_0_{i} = inc_t<0>();\" for i in range(var_1_count))\n",
    "        variables = \"\\n\".join(f\"constexpr int var_{i} = inc_t<{i}>();\" for i in range(vars_count))\n",
    "    elif bench_type == 4:\n",
    "        variables_1 = \"\\n\".join(f\"constexpr int var_0_{i} = 0;\" for i in range(var_1_count))\n",
    "        variables = \"\\n\".join(f\"constexpr int var_{i} = {i};\" for i in range(vars_count))\n",
    "    else:\n",
    "        raise Exception(\"unsupported\")\n",
    "    \n",
    "    code = \"\\n\\n\".join([struct_and_f, variables_1, variables])\n",
    "    return code\n",
    "\n",
    "check_code(gen_struct_template_instantiation(0, 2, 2))\n",
    "check_code(gen_struct_template_instantiation(1, 2, 2))\n",
    "check_code(gen_struct_template_instantiation(2, 2, 2))\n",
    "check_code(gen_struct_template_instantiation(3, 2, 2))\n",
    "\n",
    "fast_run = False\n",
    "var_1_count_max = 30\n",
    "vars_count_max = 30\n",
    "tasks = []\n",
    "for bench_type in [0, 1, 2, 3, 4]:\n",
    "    vars_count = 0\n",
    "    for var_1_count in range(1, var_1_count_max + 1):\n",
    "        tasks.append({\n",
    "            \"params\": subdict(locals(), [\"bench_type\", \"vars_count\", \"var_1_count\"]),\n",
    "            \"task\": make_task(bench_repeated, method=bench_instructions_clang, \n",
    "                              code=gen_struct_template_instantiation(bench_type, var_1_count, vars_count))\n",
    "        })\n",
    "    var_1_count = 0\n",
    "    for vars_count in range(1, vars_count_max + 1):\n",
    "        tasks.append({\n",
    "            \"params\": subdict(locals(), [\"bench_type\", \"vars_count\", \"var_1_count\"]),\n",
    "            \"task\": make_task(bench_repeated, method=bench_instructions_clang, \n",
    "                              code=gen_struct_template_instantiation(bench_type, var_1_count, vars_count))\n",
    "        })\n",
    "\n",
    "df = eval_tasks(tasks)"
   ]
  },
  {
   "cell_type": "code",
   "execution_count": 10,
   "metadata": {},
   "outputs": [
    {
     "data": {
      "text/plain": [
       "0.999787149581432"
      ]
     },
     "metadata": {},
     "output_type": "display_data"
    },
    {
     "data": {
      "text/plain": [
       "array([58281.66746092,     0.        ])"
      ]
     },
     "metadata": {},
     "output_type": "display_data"
    },
    {
     "data": {
      "text/plain": [
       "0.9982176196847174"
      ]
     },
     "metadata": {},
     "output_type": "display_data"
    },
    {
     "data": {
      "text/plain": [
       "array([     0.        , 113174.18693285])"
      ]
     },
     "metadata": {},
     "output_type": "display_data"
    },
    {
     "data": {
      "text/plain": [
       "0.9997064021798915"
      ]
     },
     "metadata": {},
     "output_type": "display_data"
    },
    {
     "data": {
      "text/plain": [
       "array([57913.76161524,     0.        ])"
      ]
     },
     "metadata": {},
     "output_type": "display_data"
    },
    {
     "data": {
      "text/plain": [
       "0.9998265254577469"
      ]
     },
     "metadata": {},
     "output_type": "display_data"
    },
    {
     "data": {
      "text/plain": [
       "array([     0.        , 134577.61215678])"
      ]
     },
     "metadata": {},
     "output_type": "display_data"
    },
    {
     "data": {
      "text/plain": [
       "0.9995664710882544"
      ]
     },
     "metadata": {},
     "output_type": "display_data"
    },
    {
     "data": {
      "text/plain": [
       "array([49436.26116152,     0.        ])"
      ]
     },
     "metadata": {},
     "output_type": "display_data"
    },
    {
     "data": {
      "text/plain": [
       "0.9994223884417027"
      ]
     },
     "metadata": {},
     "output_type": "display_data"
    },
    {
     "data": {
      "text/plain": [
       "array([    0.       , 42532.3850682])"
      ]
     },
     "metadata": {},
     "output_type": "display_data"
    },
    {
     "data": {
      "text/plain": [
       "0.9995736352954502"
      ]
     },
     "metadata": {},
     "output_type": "display_data"
    },
    {
     "data": {
      "text/plain": [
       "array([57027.00188514,     0.        ])"
      ]
     },
     "metadata": {},
     "output_type": "display_data"
    },
    {
     "data": {
      "text/plain": [
       "0.9998453807126971"
      ]
     },
     "metadata": {},
     "output_type": "display_data"
    },
    {
     "data": {
      "text/plain": [
       "array([    0.        , 93760.54604239])"
      ]
     },
     "metadata": {},
     "output_type": "display_data"
    },
    {
     "data": {
      "text/plain": [
       "0.999314109971471"
      ]
     },
     "metadata": {},
     "output_type": "display_data"
    },
    {
     "data": {
      "text/plain": [
       "array([38952.2487852,     0.       ])"
      ]
     },
     "metadata": {},
     "output_type": "display_data"
    },
    {
     "data": {
      "text/plain": [
       "0.9988290391735165"
      ]
     },
     "metadata": {},
     "output_type": "display_data"
    },
    {
     "data": {
      "text/plain": [
       "array([    0.        , 39767.42815994])"
      ]
     },
     "metadata": {},
     "output_type": "display_data"
    }
   ],
   "source": [
    "for bench_type in [0, 1, 2, 3, 4]:\n",
    "    for var_1_or_many_mask in [(df.var_1_count != 0), (df.vars_count != 0)]:\n",
    "        df_1 = pd.DataFrame(df[(df.bench_type == bench_type) & var_1_or_many_mask])\n",
    "        X = np.array(df_1[[\"var_1_count\", \"vars_count\"]])\n",
    "        y = np.array(df_1[\"value\"])\n",
    "        reg = LinearRegression().fit(X, y)\n",
    "        display(reg.score(X, y))\n",
    "        display(reg.coef_)"
   ]
  },
  {
   "cell_type": "markdown",
   "metadata": {},
   "source": [
    "**Вывод:**\n",
    "\n",
    "| Параметр | clang++ | g++ |\n",
    "|----------|---------|-----|\n",
    "| Инстанциация структуры с одним параметром | ~ 32K (99K - 67K) | ~ 55K (113K - 58K) |\n",
    "| Обращение к инстанциированной структуре | ~ 34K (67K - 33K) | ~ 19K (58K - 39K) |\n",
    "| Применение constexpr функции | ~ 12K (45K - 33K) | ~ 6K (45K - 39K) |\n",
    "| Инстанциация шаблонной функции | ~ 52K (98K - 46K) | ~ 36K (93K - 57K) |\n",
    "| Применение шаблонной constexpr функции | ~ 13K (46K - 33K) | ~ 18K (57K - 39K) |\n",
    "| Одна глобальная constexpr переменная | ~ 33K | ~39K |\n",
    "| Одно раскрытие алиаса | 3K-12K в зависимости от контекста | 0-21K|"
   ]
  },
  {
   "cell_type": "markdown",
   "metadata": {},
   "source": [
    "# Стоимость одного шаблонного параметра при обращении к структуре"
   ]
  },
  {
   "cell_type": "code",
   "execution_count": 21,
   "metadata": {},
   "outputs": [
    {
     "name": "stdout",
     "output_type": "stream",
     "text": [
      "Instructions,\n",
      "125276305.0,\n",
      "Instructions,\n",
      "80721233.0,\n"
     ]
    },
    {
     "data": {
      "application/vnd.jupyter.widget-view+json": {
       "model_id": "3f76f6aedbef42fbb9d26f72fa9d5f09",
       "version_major": 2,
       "version_minor": 0
      },
      "text/plain": [
       "HBox(children=(FloatProgress(value=0.0, max=38.0), HTML(value='')))"
      ]
     },
     "metadata": {},
     "output_type": "display_data"
    },
    {
     "name": "stdout",
     "output_type": "stream",
     "text": [
      "\n"
     ]
    }
   ],
   "source": [
    "def gen_struct_template_args_count(args_count, var_1_count, vars_count):\n",
    "    assert(args_count > 1)\n",
    "    dummy_args = ','.join(\"0\" for i in range(args_count - 1))\n",
    "    struct_and_f = dedent(f\"\"\"\\\n",
    "        template <int a, int... aas>\n",
    "        struct TInc {{\n",
    "            static constexpr int r = a + 1;\n",
    "        }};\n",
    "        \n",
    "        constexpr int init_s = TInc<0, {dummy_args}>::r;\n",
    "        \"\"\")\n",
    "    variables_1 = \"\\n\".join(f\"constexpr int var_0_{i} = TInc<0, {dummy_args}>::r;\" for i in range(var_1_count))\n",
    "    variables = \"\\n\".join(f\"constexpr int var_{i} = TInc<{i}, {dummy_args}>::r;\" for i in range(vars_count))    \n",
    "    code = \"\\n\\n\".join([struct_and_f, variables_1, variables])\n",
    "    return code\n",
    "\n",
    "check_code(gen_struct_template_args_count(2, 2, 2))\n",
    "check_code(gen_struct_template_args_count(2, 2, 2))\n",
    "\n",
    "fast_run=False\n",
    "args_count_max = 20\n",
    "var_1_count_max = 1\n",
    "vars_count_max = 1\n",
    "tasks = []\n",
    "\n",
    "for args_count in range(2, args_count_max + 1):\n",
    "    for vars_count, var_1_count in [(100, 0), (0, 100)]:\n",
    "        tasks.append({\n",
    "            \"params\": subdict(locals(), [\"args_count\", \"vars_count\", \"var_1_count\"]),\n",
    "            \"task\": make_task(bench_repeated, method=bench_instructions_clang, \n",
    "                              code=gen_struct_template_args_count(args_count, var_1_count, vars_count))\n",
    "        })\n",
    "\n",
    "df = eval_tasks(tasks)"
   ]
  },
  {
   "cell_type": "code",
   "execution_count": 22,
   "metadata": {},
   "outputs": [
    {
     "data": {
      "text/plain": [
       "0.9994290738014862"
      ]
     },
     "metadata": {},
     "output_type": "display_data"
    },
    {
     "data": {
      "text/plain": [
       "array([464391.2693675])"
      ]
     },
     "metadata": {},
     "output_type": "display_data"
    },
    {
     "data": {
      "text/plain": [
       "0.9992261625609389"
      ]
     },
     "metadata": {},
     "output_type": "display_data"
    },
    {
     "data": {
      "text/plain": [
       "array([472306.72636196])"
      ]
     },
     "metadata": {},
     "output_type": "display_data"
    }
   ],
   "source": [
    "for var_1_or_many_mask in [(df.var_1_count == 0), (df.vars_count == 0)]:\n",
    "    df_1 = pd.DataFrame(df[var_1_or_many_mask])\n",
    "    X = np.array(df_1[[\"args_count\"]])\n",
    "    y = np.array(df_1[\"value\"])\n",
    "    reg = LinearRegression().fit(X, y)\n",
    "    display(reg.score(X, y))\n",
    "    display(reg.coef_)"
   ]
  },
  {
   "cell_type": "markdown",
   "metadata": {},
   "source": [
    "**Вывод** \n",
    "\n",
    "\n",
    "| Параметр | clang++ | g++ |\n",
    "|----------|---------|-----|\n",
    "| Один дополнительный шаблонный параметр в структуре при инстанциации | ~ 4.7K (470K / 100) | ~ 18K (1791K / 100) |\n",
    "| Один дополнительный шаблонный параметр в структуре при обращении | ~ 4.7K (470K / 100) | ~ 6.8K (679K / 100) |"
   ]
  },
  {
   "cell_type": "markdown",
   "metadata": {},
   "source": [
    "# Стоимость одного шаблонного аргумента в алиасе"
   ]
  },
  {
   "cell_type": "code",
   "execution_count": 26,
   "metadata": {},
   "outputs": [
    {
     "name": "stdout",
     "output_type": "stream",
     "text": [
      "Instructions,\n",
      "33037776.0,\n",
      "Instructions,\n",
      "33117676.0,\n"
     ]
    },
    {
     "data": {
      "application/vnd.jupyter.widget-view+json": {
       "model_id": "afbaea035fd245398154683d91771f69",
       "version_major": 2,
       "version_minor": 0
      },
      "text/plain": [
       "HBox(children=(FloatProgress(value=0.0, max=38.0), HTML(value='')))"
      ]
     },
     "metadata": {},
     "output_type": "display_data"
    },
    {
     "name": "stdout",
     "output_type": "stream",
     "text": [
      "\n"
     ]
    }
   ],
   "source": [
    "def gen_using_template(args_count, var_1_count, vars_count):\n",
    "    assert(args_count > 1)\n",
    "    dummy_args = ','.join(\"0\" for i in range(args_count - 1))\n",
    "    struct_and_f = dedent(f\"\"\"\\\n",
    "        struct TIncBase {{\n",
    "            static constexpr int r = 1;\n",
    "        }};\n",
    "        \n",
    "        template <int ...aas>\n",
    "        using TInc = TIncBase;\n",
    "        \n",
    "        constexpr int init_s = TInc<0, {dummy_args}>::r;\n",
    "        \"\"\")\n",
    "    variables_1 = \"\\n\".join(f\"constexpr int var_0_{i} = TInc<0, {dummy_args}>::r;\" for i in range(var_1_count))\n",
    "    variables = \"\\n\".join(f\"constexpr int var_{i} = TInc<{i}, {dummy_args}>::r;\" for i in range(vars_count))    \n",
    "    code = \"\\n\\n\".join([struct_and_f, variables_1, variables])\n",
    "    return code\n",
    "\n",
    "check_code(gen_struct_template_args_count(2, 2, 2))\n",
    "check_code(gen_struct_template_args_count(2, 2, 2))\n",
    "\n",
    "fast_run=False\n",
    "args_count_max = 20\n",
    "var_1_count_max = 1\n",
    "vars_count_max = 1\n",
    "tasks = []\n",
    "\n",
    "for args_count in range(2, args_count_max + 1):\n",
    "    for vars_count, var_1_count in [(100, 0), (0, 100)]:\n",
    "        tasks.append({\n",
    "            \"params\": subdict(locals(), [\"args_count\", \"vars_count\", \"var_1_count\"]),\n",
    "            \"task\": make_task(bench_repeated, method=bench_instructions_clang, \n",
    "                              code=gen_struct_template_args_count(args_count, var_1_count, vars_count))\n",
    "        })\n",
    "\n",
    "df = eval_tasks(tasks)"
   ]
  },
  {
   "cell_type": "code",
   "execution_count": 27,
   "metadata": {},
   "outputs": [
    {
     "data": {
      "text/plain": [
       "0.9999924309874952"
      ]
     },
     "metadata": {},
     "output_type": "display_data"
    },
    {
     "data": {
      "text/plain": [
       "array([1796708.57172207])"
      ]
     },
     "metadata": {},
     "output_type": "display_data"
    },
    {
     "data": {
      "text/plain": [
       "0.999984804644805"
      ]
     },
     "metadata": {},
     "output_type": "display_data"
    },
    {
     "data": {
      "text/plain": [
       "array([684789.75847184])"
      ]
     },
     "metadata": {},
     "output_type": "display_data"
    }
   ],
   "source": [
    "for var_1_or_many_mask in [(df.var_1_count == 0), (df.vars_count == 0)]:\n",
    "    df_1 = pd.DataFrame(df[var_1_or_many_mask])\n",
    "    X = np.array(df_1[[\"args_count\"]])\n",
    "    y = np.array(df_1[\"value\"])\n",
    "    reg = LinearRegression().fit(X, y)\n",
    "    display(reg.score(X, y))\n",
    "    display(reg.coef_)"
   ]
  },
  {
   "cell_type": "markdown",
   "metadata": {},
   "source": [
    "**Вывод** \n",
    "\n",
    "| Параметр | clang++ | g++ |\n",
    "|----------|---------|-----|\n",
    "| Один дополнительный шаблонный параметр в алиасе при первом использовании | ~ 4.7K (470K / 100) | ~ 18K (1791K / 100) |\n",
    "| Один дополнительный шаблонный параметр в алиасе при повторном использовании | ~ 4.7K (470K / 100) | ~ 6.8K (684K / 100) |\n"
   ]
  },
  {
   "cell_type": "markdown",
   "metadata": {},
   "source": [
    "# Стоимость объявления без использования"
   ]
  },
  {
   "cell_type": "code",
   "execution_count": 28,
   "metadata": {
    "scrolled": true
   },
   "outputs": [
    {
     "name": "stdout",
     "output_type": "stream",
     "text": [
      "Instructions,\n",
      "35801720.0,\n",
      "Instructions,\n",
      "32732104.0,\n",
      "Instructions,\n",
      "32534789.0,\n"
     ]
    },
    {
     "data": {
      "application/vnd.jupyter.widget-view+json": {
       "model_id": "0d041b527ebe4a659723c2ea567a4394",
       "version_major": 2,
       "version_minor": 0
      },
      "text/plain": [
       "HBox(children=(FloatProgress(value=0.0, max=60.0), HTML(value='')))"
      ]
     },
     "metadata": {},
     "output_type": "display_data"
    },
    {
     "name": "stdout",
     "output_type": "stream",
     "text": [
      "\n"
     ]
    }
   ],
   "source": [
    "def gen_just_decl(structs_count, usings_count, funcs_count):\n",
    "    return \"\\n\\n\".join([\n",
    "        \"\\n\".join(f\"template <typename T> struct TStruct_{i} {{}};\" for i in range(structs_count)),\n",
    "        \"\\n\".join(f\"template <typename T> using TUsing_{i} = int;\" for i in range(usings_count)),\n",
    "        \"\\n\".join(f\"template <typename T> constexpr int Func_{i}() {{ return 1; }};\" for i in range(funcs_count)),\n",
    "    ])\n",
    "    \n",
    "\n",
    "check_code(gen_just_decl(2, 1, 0))\n",
    "check_code(gen_just_decl(0, 2, 1))\n",
    "check_code(gen_just_decl(1, 0, 2))\n",
    "\n",
    "fast_run = False\n",
    "count_max = 20\n",
    "tasks = []\n",
    "\n",
    "for count in range(1, count_max + 1):\n",
    "    for structs_count, usings_count, funcs_count in [(count_max, 0, 0), (0, count_max, 0), (0, 0, count_max)]:\n",
    "        tasks.append({\n",
    "            \"params\": subdict(locals(), [\"structs_count\", \"usings_count\", \"funcs_count\", \"count\"]),\n",
    "            \"task\": make_task(bench_repeated, method=bench_instructions_clang, \n",
    "                              code=gen_just_decl(structs_count, usings_count, funcs_count))\n",
    "        })\n",
    "\n",
    "df = eval_tasks(tasks)"
   ]
  },
  {
   "cell_type": "code",
   "execution_count": 32,
   "metadata": {},
   "outputs": [
    {
     "ename": "AttributeError",
     "evalue": "'DataFrame' object has no attribute 'structs_count'",
     "output_type": "error",
     "traceback": [
      "\u001b[0;31m---------------------------------------------------------------------------\u001b[0m",
      "\u001b[0;31mAttributeError\u001b[0m                            Traceback (most recent call last)",
      "\u001b[0;32m<ipython-input-32-17a98b26f232>\u001b[0m in \u001b[0;36m<module>\u001b[0;34m\u001b[0m\n\u001b[0;32m----> 1\u001b[0;31m \u001b[0;32mfor\u001b[0m \u001b[0mwhatever_count_mask\u001b[0m \u001b[0;32min\u001b[0m \u001b[0;34m[\u001b[0m\u001b[0;34m(\u001b[0m\u001b[0mdf\u001b[0m\u001b[0;34m.\u001b[0m\u001b[0mstructs_count\u001b[0m \u001b[0;34m!=\u001b[0m \u001b[0;36m0\u001b[0m\u001b[0;34m)\u001b[0m\u001b[0;34m,\u001b[0m \u001b[0;34m(\u001b[0m\u001b[0mdf\u001b[0m\u001b[0;34m.\u001b[0m\u001b[0musings_count\u001b[0m \u001b[0;34m!=\u001b[0m \u001b[0;36m0\u001b[0m\u001b[0;34m)\u001b[0m\u001b[0;34m,\u001b[0m \u001b[0;34m(\u001b[0m\u001b[0mdf\u001b[0m\u001b[0;34m.\u001b[0m\u001b[0mfuncs_count\u001b[0m \u001b[0;34m!=\u001b[0m \u001b[0;36m0\u001b[0m\u001b[0;34m)\u001b[0m\u001b[0;34m]\u001b[0m\u001b[0;34m:\u001b[0m\u001b[0;34m\u001b[0m\u001b[0;34m\u001b[0m\u001b[0m\n\u001b[0m\u001b[1;32m      2\u001b[0m     \u001b[0mdf_1\u001b[0m \u001b[0;34m=\u001b[0m \u001b[0mpd\u001b[0m\u001b[0;34m.\u001b[0m\u001b[0mDataFrame\u001b[0m\u001b[0;34m(\u001b[0m\u001b[0mdf\u001b[0m\u001b[0;34m[\u001b[0m\u001b[0mwhatever_count_mask\u001b[0m\u001b[0;34m]\u001b[0m\u001b[0;34m)\u001b[0m\u001b[0;34m\u001b[0m\u001b[0;34m\u001b[0m\u001b[0m\n\u001b[1;32m      3\u001b[0m     \u001b[0mX\u001b[0m \u001b[0;34m=\u001b[0m \u001b[0mnp\u001b[0m\u001b[0;34m.\u001b[0m\u001b[0marray\u001b[0m\u001b[0;34m(\u001b[0m\u001b[0mdf_1\u001b[0m\u001b[0;34m[\u001b[0m\u001b[0;34m[\u001b[0m\u001b[0;34m\"count\"\u001b[0m\u001b[0;34m]\u001b[0m\u001b[0;34m]\u001b[0m\u001b[0;34m)\u001b[0m\u001b[0;34m\u001b[0m\u001b[0;34m\u001b[0m\u001b[0m\n\u001b[1;32m      4\u001b[0m     \u001b[0my\u001b[0m \u001b[0;34m=\u001b[0m \u001b[0mnp\u001b[0m\u001b[0;34m.\u001b[0m\u001b[0marray\u001b[0m\u001b[0;34m(\u001b[0m\u001b[0mdf_1\u001b[0m\u001b[0;34m[\u001b[0m\u001b[0;34m\"value\"\u001b[0m\u001b[0;34m]\u001b[0m\u001b[0;34m)\u001b[0m\u001b[0;34m\u001b[0m\u001b[0;34m\u001b[0m\u001b[0m\n\u001b[1;32m      5\u001b[0m     \u001b[0mplt\u001b[0m\u001b[0;34m.\u001b[0m\u001b[0mplot\u001b[0m\u001b[0;34m(\u001b[0m\u001b[0mX\u001b[0m\u001b[0;34m.\u001b[0m\u001b[0mravel\u001b[0m\u001b[0;34m(\u001b[0m\u001b[0;34m)\u001b[0m\u001b[0;34m,\u001b[0m \u001b[0my\u001b[0m\u001b[0;34m.\u001b[0m\u001b[0mravel\u001b[0m\u001b[0;34m(\u001b[0m\u001b[0;34m)\u001b[0m\u001b[0;34m)\u001b[0m\u001b[0;34m\u001b[0m\u001b[0;34m\u001b[0m\u001b[0m\n",
      "\u001b[0;32m~/.local/lib/python3.6/site-packages/pandas/core/generic.py\u001b[0m in \u001b[0;36m__getattr__\u001b[0;34m(self, name)\u001b[0m\n\u001b[1;32m   5272\u001b[0m             \u001b[0;32mif\u001b[0m \u001b[0mself\u001b[0m\u001b[0;34m.\u001b[0m\u001b[0m_info_axis\u001b[0m\u001b[0;34m.\u001b[0m\u001b[0m_can_hold_identifiers_and_holds_name\u001b[0m\u001b[0;34m(\u001b[0m\u001b[0mname\u001b[0m\u001b[0;34m)\u001b[0m\u001b[0;34m:\u001b[0m\u001b[0;34m\u001b[0m\u001b[0;34m\u001b[0m\u001b[0m\n\u001b[1;32m   5273\u001b[0m                 \u001b[0;32mreturn\u001b[0m \u001b[0mself\u001b[0m\u001b[0;34m[\u001b[0m\u001b[0mname\u001b[0m\u001b[0;34m]\u001b[0m\u001b[0;34m\u001b[0m\u001b[0;34m\u001b[0m\u001b[0m\n\u001b[0;32m-> 5274\u001b[0;31m             \u001b[0;32mreturn\u001b[0m \u001b[0mobject\u001b[0m\u001b[0;34m.\u001b[0m\u001b[0m__getattribute__\u001b[0m\u001b[0;34m(\u001b[0m\u001b[0mself\u001b[0m\u001b[0;34m,\u001b[0m \u001b[0mname\u001b[0m\u001b[0;34m)\u001b[0m\u001b[0;34m\u001b[0m\u001b[0;34m\u001b[0m\u001b[0m\n\u001b[0m\u001b[1;32m   5275\u001b[0m \u001b[0;34m\u001b[0m\u001b[0m\n\u001b[1;32m   5276\u001b[0m     \u001b[0;32mdef\u001b[0m \u001b[0m__setattr__\u001b[0m\u001b[0;34m(\u001b[0m\u001b[0mself\u001b[0m\u001b[0;34m,\u001b[0m \u001b[0mname\u001b[0m\u001b[0;34m:\u001b[0m \u001b[0mstr\u001b[0m\u001b[0;34m,\u001b[0m \u001b[0mvalue\u001b[0m\u001b[0;34m)\u001b[0m \u001b[0;34m->\u001b[0m \u001b[0;32mNone\u001b[0m\u001b[0;34m:\u001b[0m\u001b[0;34m\u001b[0m\u001b[0;34m\u001b[0m\u001b[0m\n",
      "\u001b[0;31mAttributeError\u001b[0m: 'DataFrame' object has no attribute 'structs_count'"
     ]
    }
   ],
   "source": [
    "for whatever_count_mask in [(df.structs_count != 0), (df.usings_count != 0), (df.funcs_count != 0)]:\n",
    "    df_1 = pd.DataFrame(df[whatever_count_mask])\n",
    "    X = np.array(df_1[[\"count\"]])\n",
    "    y = np.array(df_1[\"value\"])\n",
    "    reg = LinearRegression().fit(X, y)\n",
    "    display(reg.score(X, y))\n",
    "    display(reg.coef_)"
   ]
  },
  {
   "cell_type": "markdown",
   "metadata": {},
   "source": [
    "**Вывод:** просто объявление шаблонных структуры, функции, алиаса стоит примерно одинаково - 3K (3.7K структура, 3K алиас, 3.2K функция)\n",
    "\n",
    "\n",
    "| Параметр | clang++ | g++ |\n",
    "|----------|---------|-----|\n",
    "| Объявление шаблонной структуры | ~ 3.7K  | ~ 0.2K |\n",
    "| Объявление шаблонной функции | ~ 3.2K  | ~ 0.4K |\n",
    "| Объявление шаблонного алиаса | ~ 3K  | ~ 0.2K |\n"
   ]
  },
  {
   "cell_type": "markdown",
   "metadata": {},
   "source": [
    "# decltype"
   ]
  },
  {
   "cell_type": "code",
   "execution_count": 56,
   "metadata": {},
   "outputs": [
    {
     "name": "stdout",
     "output_type": "stream",
     "text": [
      "Instructions,\n",
      "128519313.0,\n",
      "Instructions,\n",
      "80822843.0,\n",
      "Instructions,\n",
      "78941415.0,\n",
      "Instructions,\n",
      "78226353.0,\n",
      "Instructions,\n",
      "78124687.0,\n",
      "Instructions,\n",
      "78061882.0,\n"
     ]
    },
    {
     "data": {
      "application/vnd.jupyter.widget-view+json": {
       "model_id": "0f79639bdf2d4c398054acae03871265",
       "version_major": 2,
       "version_minor": 0
      },
      "text/plain": [
       "HBox(children=(FloatProgress(value=0.0, max=180.0), HTML(value='')))"
      ]
     },
     "metadata": {},
     "output_type": "display_data"
    },
    {
     "name": "stdout",
     "output_type": "stream",
     "text": [
      "\n"
     ]
    }
   ],
   "source": [
    "def gen_decltype_auto(explicit_count, auto_count, decltype_count, use_template):\n",
    "    return (\n",
    "        dedent(\n",
    "            \"\"\"\\\n",
    "            template <int a>\n",
    "            struct TEmpty {};\n",
    "            \"\"\"\n",
    "        ) + \n",
    "        (\n",
    "            \"\\n\\n\".join([\n",
    "                \"\\n\".join(f\"constexpr TEmpty<{i}> var_0_{i} = TEmpty<{i}>{{}};\" for i in range(explicit_count)),\n",
    "                \"\\n\".join(f\"constexpr auto var_1_{i} = TEmpty<{i}>{{}};\" for i in range(auto_count)),\n",
    "                \"\\n\".join(f\"constexpr decltype(var_0_{i}) var_2_{i} = TEmpty<{i}>{{}};\" for i in range(decltype_count)),\n",
    "            ])\n",
    "            if use_template == 1 else\n",
    "            \"\\n\\n\".join([\n",
    "                \"\\n\".join(f\"constexpr int var_0_{i} = int{{}};\" for i in range(explicit_count)),\n",
    "                \"\\n\".join(f\"constexpr auto var_1_{i} = int{{}};\" for i in range(auto_count)),\n",
    "                \"\\n\".join(f\"constexpr decltype(var_0_{i}) var_2_{i} = int{{}};\" for i in range(decltype_count)),\n",
    "            ])\n",
    "        )\n",
    "    )\n",
    "\n",
    "gen_decltype_auto(2, 0, 0, 1)\n",
    "\n",
    "check_code(gen_decltype_auto(2, 0, 2, 1))\n",
    "check_code(gen_decltype_auto(2, 2, 0, 1))\n",
    "check_code(gen_decltype_auto(2, 0, 0, 1))\n",
    "check_code(gen_decltype_auto(2, 0, 2, 0))\n",
    "check_code(gen_decltype_auto(2, 2, 0, 0))\n",
    "check_code(gen_decltype_auto(2, 0, 0, 0))\n",
    "\n",
    "fast_run = False\n",
    "count_max = 30\n",
    "tasks = []\n",
    "for use_template in [0, 1]:\n",
    "    for count in range(1, count_max + 1):\n",
    "        for t, (explicit_count, auto_count, decltype_count) in enumerate([(count, 0, 0), (100, count, 0), (100, 0, count)]):\n",
    "            tasks.append({\n",
    "                \"params\": subdict(locals(), [\"t\", \"use_template\", \"count\"]),\n",
    "                \"task\": make_task(bench_repeated, method=bench_instructions_clang, \n",
    "                                  code=gen_decltype_auto(explicit_count, auto_count, decltype_count, use_template))\n",
    "            })\n",
    "\n",
    "df = eval_tasks(tasks)"
   ]
  },
  {
   "cell_type": "code",
   "execution_count": 57,
   "metadata": {},
   "outputs": [
    {
     "data": {
      "text/plain": [
       "0.983748663535732"
      ]
     },
     "metadata": {},
     "output_type": "display_data"
    },
    {
     "data": {
      "text/plain": [
       "array([41595.62023008])"
      ]
     },
     "metadata": {},
     "output_type": "display_data"
    },
    {
     "data": {
      "text/plain": [
       "0.9935266762581566"
      ]
     },
     "metadata": {},
     "output_type": "display_data"
    },
    {
     "data": {
      "text/plain": [
       "array([46754.94574674])"
      ]
     },
     "metadata": {},
     "output_type": "display_data"
    },
    {
     "data": {
      "text/plain": [
       "0.99076672180942"
      ]
     },
     "metadata": {},
     "output_type": "display_data"
    },
    {
     "data": {
      "text/plain": [
       "array([45446.95854458])"
      ]
     },
     "metadata": {},
     "output_type": "display_data"
    },
    {
     "data": {
      "text/plain": [
       "0.9996502396289184"
      ]
     },
     "metadata": {},
     "output_type": "display_data"
    },
    {
     "data": {
      "text/plain": [
       "array([151682.13276155])"
      ]
     },
     "metadata": {},
     "output_type": "display_data"
    },
    {
     "data": {
      "text/plain": [
       "0.9994361634937344"
      ]
     },
     "metadata": {},
     "output_type": "display_data"
    },
    {
     "data": {
      "text/plain": [
       "array([84556.58594637])"
      ]
     },
     "metadata": {},
     "output_type": "display_data"
    },
    {
     "data": {
      "text/plain": [
       "0.9991991658265303"
      ]
     },
     "metadata": {},
     "output_type": "display_data"
    },
    {
     "data": {
      "text/plain": [
       "array([82204.16013114])"
      ]
     },
     "metadata": {},
     "output_type": "display_data"
    }
   ],
   "source": [
    "for use_template in [0, 1]:\n",
    "    for whatever_count_mask in [(df.t == i) for i in range(3)]:\n",
    "        df_1 = pd.DataFrame(df[whatever_count_mask & (df.use_template == use_template)])\n",
    "        X = np.array(df_1[[\"count\"]])\n",
    "        y = np.array(df_1[\"value\"])\n",
    "        reg = LinearRegression().fit(X, y)\n",
    "        display(reg.score(X, y))\n",
    "        display(reg.coef_)"
   ]
  },
  {
   "cell_type": "markdown",
   "metadata": {},
   "source": [
    "**Вывод:** \n",
    "\n",
    "| Параметр | clang++ | g++ |\n",
    "|----------|---------|-----|\n",
    "| `int a1 = int{};` | ~ 42K | ~ 45K |\n",
    "| `auto a2 = int{};` | ~ 47K  | ~ 49K |\n",
    "| `decltype(a1) a3 = int{};` | ~45 | ~ 48K |\n",
    "| `T<0> a4 = T<0>{};` | ~ 152K  | ~ 170K |\n",
    "| `auto a5 = T<0>{};` | ~ 85K | ~ 75K |\n",
    "| `decltype(a4) a6 = T<0>{};` | ~ 82K | ~ 74K |\n",
    "| auto | ~ 5K | ~ 4K (49K - 45K) |\n",
    "| decltype | ~ 3K | ~ 3K (48K - 45K) |\n",
    "\n",
    "При этом надо понимать, что писать `auto` и `decltype` существенно выгоднее, чем тип с шаблонными параметрами. \n"
   ]
  },
  {
   "cell_type": "code",
   "execution_count": null,
   "metadata": {},
   "outputs": [],
   "source": []
  },
  {
   "cell_type": "code",
   "execution_count": null,
   "metadata": {},
   "outputs": [],
   "source": []
  },
  {
   "cell_type": "markdown",
   "metadata": {},
   "source": [
    "# SFINAE"
   ]
  },
  {
   "cell_type": "code",
   "execution_count": 30,
   "metadata": {},
   "outputs": [
    {
     "name": "stdout",
     "output_type": "stream",
     "text": [
      "\n",
      "template <int i_>\n",
      "struct A { int i = i_; };\n",
      "\n",
      "template <int i_>\n",
      "struct B {};\n",
      "\n",
      "\n",
      "\n",
      "template <typename T>\n",
      "constexpr bool HasI(const T*, decltype(T::i)* = nullptr) { return true; }\n",
      "constexpr bool HasI(void*, void* = nullptr) { return false; }\n",
      "\n",
      "template <typename T>\n",
      "constexpr bool HasIVar() { return HasI(static_cast<T*>(nullptr)); }\n",
      "\n",
      "\n",
      "\n",
      "static_assert(HasIVar<A<0>>(), \"A must have ::i\");\n",
      "static_assert(!HasIVar<B<0>>(), \"B must not have ::i\");\n",
      "\n",
      "\n",
      "constexpr bool HasI(int* = nullptr, int* = nullptr, int* = nullptr) { return false; };\n",
      "constexpr bool HasI(int* = nullptr, int* = nullptr, int* = nullptr, int* = nullptr) { return false; };\n",
      "\n",
      "constexpr bool Val_0_a = HasIVar<A<0>>() || HasIVar<B<0>>();\n",
      "constexpr bool Val_1_a = HasIVar<A<1>>() || HasIVar<B<1>>();\n",
      "constexpr bool Val_2_a = HasIVar<A<2>>() || HasIVar<B<2>>();\n",
      "constexpr bool Val_3_a = HasIVar<A<3>>() || HasIVar<B<3>>();\n",
      "Instructions,\n",
      "34677264.0,\n",
      "Instructions,\n",
      "34599321.0,\n",
      "Instructions,\n",
      "34428504.0,\n"
     ]
    },
    {
     "data": {
      "application/vnd.jupyter.widget-view+json": {
       "model_id": "8274f3fa4a2d4b4ab0ac362ec19ef42a",
       "version_major": 2,
       "version_minor": 0
      },
      "text/plain": [
       "HBox(children=(FloatProgress(value=0.0, max=117.0), HTML(value='')))"
      ]
     },
     "metadata": {},
     "output_type": "display_data"
    },
    {
     "name": "stdout",
     "output_type": "stream",
     "text": [
      "\n"
     ]
    }
   ],
   "source": [
    "def gen_sfinae(uses_count, functions_count, sfinae_type):\n",
    "    header = dedent('''\n",
    "        template <int i_>\n",
    "        struct A { int i = i_; };\n",
    "        \n",
    "        template <int i_>\n",
    "        struct B {};\n",
    "    ''')\n",
    "    if sfinae_type == 0:\n",
    "        realisation = dedent('''\n",
    "            template <typename T>\n",
    "            constexpr bool HasI(const T*, decltype(T::i)* = nullptr) { return true; }\n",
    "            constexpr bool HasI(...) { return false; }\n",
    "            \n",
    "            template <typename T>\n",
    "            constexpr bool HasIVar() { return HasI(static_cast<T*>(nullptr)); }\n",
    "        ''')\n",
    "    elif sfinae_type == 1:\n",
    "        realisation = dedent('''\n",
    "            template <typename T>\n",
    "            constexpr bool HasI(const T*, decltype(T::i)* = nullptr) { return true; }\n",
    "            constexpr bool HasI(void*, void* = nullptr) { return false; }\n",
    "            \n",
    "            template <typename T>\n",
    "            constexpr bool HasIVar() { return HasI(static_cast<T*>(nullptr)); }\n",
    "        ''')\n",
    "    elif sfinae_type == 2:\n",
    "        realisation = dedent('''\n",
    "            struct true_type { static constexpr bool value = true; };\n",
    "            struct false_type { static constexpr bool value = false; };\n",
    "        \n",
    "            template <typename T>\n",
    "            constexpr true_type HasI(const T*, decltype(T::i)* = nullptr);\n",
    "            constexpr false_type HasI(...);\n",
    "            \n",
    "            template <typename T>\n",
    "            constexpr bool HasIVar() { return decltype(HasI(static_cast<T*>(nullptr)))::value; }\n",
    "        ''')\n",
    "    else:\n",
    "        raise Exception(\"unknown sfinae type\")\n",
    "    checker = dedent('''    \n",
    "        static_assert(HasIVar<A<0>>(), \"A must have ::i\");\n",
    "        static_assert(!HasIVar<B<0>>(), \"B must not have ::i\");\n",
    "    ''')\n",
    "    \n",
    "    return \"\\n\\n\".join([\n",
    "        header, \n",
    "        realisation,\n",
    "        checker,\n",
    "        \"\\n\".join(\n",
    "            f\"constexpr bool HasI({', '.join('int* = nullptr' for j in range(i))}) {{ return false; }};\" \n",
    "            for i in range(2 + 1, functions_count + 1)\n",
    "        ),\n",
    "        \"\\n\".join(f\"constexpr bool Val_{i}_a = HasIVar<A<{i}>>() || HasIVar<B<{i}>>();\" for i in range(uses_count)),\n",
    "    ])\n",
    "    \n",
    "print(gen_sfinae(4, 4, 1))\n",
    "check_code(gen_sfinae(4, 4, 0))\n",
    "check_code(gen_sfinae(4, 4, 1))\n",
    "check_code(gen_sfinae(4, 4, 2))\n",
    "\n",
    "fast_run = False\n",
    "uses_count_max = 20\n",
    "tasks = []\n",
    "for sfinae_type in [0, 1, 2]:\n",
    "    functions_count = 2\n",
    "    for uses_count in range(1, uses_count_max + 1):\n",
    "        tasks.append({\n",
    "            \"params\": subdict(locals(), [\"uses_count\", \"functions_count\", \"sfinae_type\"]),\n",
    "            \"task\": make_task(bench_repeated, method=bench_instructions_clang, \n",
    "                              code=gen_sfinae(uses_count, functions_count, sfinae_type))\n",
    "        })\n",
    "\n",
    "    uses_count = 30\n",
    "    functions_count_max = 20\n",
    "    for functions_count in range(2, functions_count_max + 1):\n",
    "        tasks.append({\n",
    "            \"params\": subdict(locals(), [\"uses_count\", \"functions_count\", \"sfinae_type\"]),\n",
    "            \"task\": make_task(bench_repeated, method=bench_instructions_clang, \n",
    "                              code=gen_sfinae(uses_count, functions_count, sfinae_type))\n",
    "        })\n",
    "\n",
    "df = eval_tasks(tasks)"
   ]
  },
  {
   "cell_type": "code",
   "execution_count": 31,
   "metadata": {},
   "outputs": [
    {
     "data": {
      "text/plain": [
       "0.9998728635820465"
      ]
     },
     "metadata": {},
     "output_type": "display_data"
    },
    {
     "data": {
      "text/plain": [
       "array([355141.97454491,      0.        ,      0.        ])"
      ]
     },
     "metadata": {},
     "output_type": "display_data"
    },
    {
     "data": {
      "text/plain": [
       "0.9877938556431206"
      ]
     },
     "metadata": {},
     "output_type": "display_data"
    },
    {
     "data": {
      "text/plain": [
       "array([     0.        , 279205.74005078,      0.        ])"
      ]
     },
     "metadata": {},
     "output_type": "display_data"
    },
    {
     "data": {
      "text/plain": [
       "0.999970775771289"
      ]
     },
     "metadata": {},
     "output_type": "display_data"
    },
    {
     "data": {
      "text/plain": [
       "array([366750.20974476,      0.        ,      0.        ])"
      ]
     },
     "metadata": {},
     "output_type": "display_data"
    },
    {
     "data": {
      "text/plain": [
       "0.9888793786189709"
      ]
     },
     "metadata": {},
     "output_type": "display_data"
    },
    {
     "data": {
      "text/plain": [
       "array([     0.       , 278628.0677747,      0.       ])"
      ]
     },
     "metadata": {},
     "output_type": "display_data"
    },
    {
     "data": {
      "text/plain": [
       "0.9999370567415876"
      ]
     },
     "metadata": {},
     "output_type": "display_data"
    },
    {
     "data": {
      "text/plain": [
       "array([310619.38194499,      0.        ,      0.        ])"
      ]
     },
     "metadata": {},
     "output_type": "display_data"
    },
    {
     "data": {
      "text/plain": [
       "0.9928781115222926"
      ]
     },
     "metadata": {},
     "output_type": "display_data"
    },
    {
     "data": {
      "text/plain": [
       "array([     0.        , 286112.63508772,      0.        ])"
      ]
     },
     "metadata": {},
     "output_type": "display_data"
    }
   ],
   "source": [
    "for sfinae_type in [0, 1, 2]:\n",
    "    for whatever_count_mask in [(df.uses_count != 30), (df.uses_count == 30)]:\n",
    "        df_1 = pd.DataFrame(df[whatever_count_mask & (df.sfinae_type == sfinae_type)])\n",
    "        X = np.array(df_1[[\"uses_count\", \"functions_count\", \"sfinae_type\"]])\n",
    "        y = np.array(df_1[\"value\"])\n",
    "        reg = LinearRegression().fit(X, y)\n",
    "        display(reg.score(X, y))\n",
    "        display(reg.coef_)"
   ]
  },
  {
   "cell_type": "markdown",
   "metadata": {},
   "source": [
    "**Вывод:** \n",
    "\n",
    "Простейшее SFINAE для проверки наличие члена у класса \n",
    "\n",
    "При возрастании количества функций, среди которых выбирается подходящая, это время растет.\n",
    "\n",
    "\n",
    "| Параметр | clang++ | g++ |\n",
    "|----------|---------|-----|\n",
    "| Простейшее SFINAE | ~ 77K ((320K - 33K) / 2 - 66K) | ~ 84K ((355K - 39K) / 2 - 74K) |"
   ]
  },
  {
   "cell_type": "code",
   "execution_count": 34,
   "metadata": {},
   "outputs": [
    {
     "data": {
      "text/plain": [
       "84.0"
      ]
     },
     "execution_count": 34,
     "metadata": {},
     "output_type": "execute_result"
    }
   ],
   "source": [
    "\n"
   ]
  },
  {
   "cell_type": "markdown",
   "metadata": {},
   "source": [
    "**Итого**\n",
    "\n",
    "| Параметр | clang++ | g++ |\n",
    "|----------|---------|-----|\n",
    "| Инстанциация структуры с одним параметром | ~ 32K (99K - 67K) | ~ 55K (113K - 58K) |\n",
    "| Обращение к инстанциированной структуре | ~ 34K (67K - 33K) | ~ 19K (58K - 39K) |\n",
    "| Применение constexpr функции | ~ 12K (45K - 33K) | ~ 6K (45K - 39K) |\n",
    "| Инстанциация шаблонной функции | ~ 52K (98K - 46K) | ~ 36K (93K - 57K) |\n",
    "| Применение шаблонной constexpr функции | ~ 13K (46K - 33K) | ~ 18K (57K - 39K) |\n",
    "| Одна глобальная constexpr переменная | ~ 33K | ~39K |\n",
    "| Одно раскрытие алиаса | 3K-12K в зависимости от контекста | 0-21K|\n",
    "| Один дополнительный шаблонный параметр в структуре при инстанциации | ~ 4.7K (470K / 100) | ~ 18K (1791K / 100) |\n",
    "| Один дополнительный шаблонный параметр в структуре при обращении | ~ 4.7K (470K / 100) | ~ 6.8K (679K / 100) |\n",
    "| Один дополнительный шаблонный параметр в алиасе при первом использовании | ~ 4.7K (470K / 100) | ~ 18K (1791K / 100) |\n",
    "| Один дополнительный шаблонный параметр в алиасе при повторном использовании | ~ 4.7K (470K / 100) | ~ 6.8K (684K / 100) |\n",
    "| Объявление шаблонной структуры | ~ 3.7K  | ~ 0.2K |\n",
    "| Объявление шаблонной функции | ~ 3.2K  | ~ 0.4K |\n",
    "| Объявление шаблонного алиаса | ~ 3K  | ~ 0.2K |\n",
    "| Простейшее SFINAE | ~ 77K ((320K - 33K) / 2 - 66K) | ~ 84K ((355K - 39K) / 2 - 74K) |"
   ]
  },
  {
   "cell_type": "code",
   "execution_count": null,
   "metadata": {},
   "outputs": [],
   "source": []
  },
  {
   "cell_type": "code",
   "execution_count": null,
   "metadata": {},
   "outputs": [],
   "source": []
  },
  {
   "cell_type": "code",
   "execution_count": null,
   "metadata": {},
   "outputs": [],
   "source": []
  },
  {
   "cell_type": "code",
   "execution_count": null,
   "metadata": {},
   "outputs": [],
   "source": []
  },
  {
   "cell_type": "markdown",
   "metadata": {},
   "source": [
    "# Research stable metric"
   ]
  },
  {
   "cell_type": "code",
   "execution_count": null,
   "metadata": {},
   "outputs": [],
   "source": [
    "import matplotlib.pylab as plt"
   ]
  },
  {
   "cell_type": "code",
   "execution_count": 210,
   "metadata": {},
   "outputs": [
    {
     "name": "stdout",
     "output_type": "stream",
     "text": [
      "66,48;msec;task-clock;66478164;100,00;0;CPUs utilized\r\n",
      "5;;context-switches;66478164;100,00;0;K/sec\r\n",
      "0;;cpu-migrations;66478164;100,00;0;K/sec\r\n",
      "4497;;page-faults;66478164;100,00;0;M/sec\r\n",
      "106626819;;cycles;66507684;100,00;1;GHz\r\n",
      "112540870;;instructions;66507684;100,00;1;insn per cycle\r\n",
      "21741550;;branches;66507684;100,00;327;M/sec\r\n",
      "267056;;branch-misses;66507684;100,00;1;of all branches\r\n"
     ]
    }
   ],
   "source": [
    "!taskset 0x4 perf stat -r 1 -x\";\" clang++ -S -emit-llvm s1.cpp 2>&1"
   ]
  },
  {
   "cell_type": "code",
   "execution_count": 308,
   "metadata": {},
   "outputs": [],
   "source": [
    "def bench_instructions_clang(code, prefix=\"taskset 0x4\", metric=\"instructions\"):\n",
    "    with open(\"s1.cpp\", \"w\") as f:\n",
    "        f.write(code)\n",
    "    if metric == 'instructions':\n",
    "        cmd = (prefix + ' perf stat -r 1 -x, --metric-only -M instructions clang++ -S -emit-llvm s1.cpp').split()\n",
    "        out = subprocess.check_output(cmd, stderr=subprocess.STDOUT).decode()\n",
    "        return float(out.split(',')[1])\n",
    "    if metric == 'time':\n",
    "        cmd = (prefix + ' perf stat -r 1 -x; clang++ -S -emit-llvm s1.cpp').split()\n",
    "        out = subprocess.check_output(cmd, stderr=subprocess.STDOUT).decode()\n",
    "        # print(out)\n",
    "        return float(out.split(';')[0].replace(',', '.'))\n",
    "    if metric == \"cycles\":\n",
    "        cmd = (prefix + ' perf stat -r 1 -x; clang++ -S -emit-llvm s1.cpp').split()\n",
    "        out = subprocess.check_output(cmd, stderr=subprocess.STDOUT).decode()\n",
    "        #print(out)\n",
    "        out = [line for line in out.split('\\n') if \"cycles\" in line][0]\n",
    "        return float(out.split(';')[0])\n",
    "    assert False, \"no such metric\"\n",
    "\n",
    "def mean_and_disp(x):\n",
    "    x = np.array(x)\n",
    "    m = x.mean()\n",
    "    d = ((x - m) ** 2).sum() / (x.shape[0] - 1)\n",
    "    return (m, d)\n",
    "\n",
    "def calc_sample(count, prefix, metric):\n",
    "    elements = []\n",
    "    for i in tqdm(range(count)):\n",
    "        elements.append(bench_instructions_clang(gen_struct_template_instantiation(0, 200, 200), prefix, metric))\n",
    "    return elements\n",
    "\n",
    "def plot_and_save(elements, title, fname, x_range=None):\n",
    "    plt.clf()\n",
    "    plt.cla()\n",
    "    plt.hist(elements, bins=50, range=x_range)\n",
    "    plt.title((title + \"\\n$\\\\bar{X}$ = %.5E,  $S^2$ = %.3E\") % mean_and_disp(elements))\n",
    "    plt.xlabel(\"Время выполнения в тактах процессора\")\n",
    "    plt.tight_layout()\n",
    "    plt.subplots_adjust(top=0.88)\n",
    "    plt.savefig(fname)\n",
    "    plt.show()"
   ]
  },
  {
   "cell_type": "code",
   "execution_count": 244,
   "metadata": {},
   "outputs": [
    {
     "data": {
      "text/plain": [
       "[106112688.0, 108582048.0, 108581415.0, 107326528.0, 107601692.0]"
      ]
     },
     "execution_count": 244,
     "metadata": {},
     "output_type": "execute_result"
    }
   ],
   "source": [
    "[bench_instructions_clang(gen_struct_template_instantiation(0, 200, 200), \"taskset 0x4\", \"cycles\") for i in range(5)]"
   ]
  },
  {
   "cell_type": "code",
   "execution_count": 245,
   "metadata": {},
   "outputs": [
    {
     "data": {
      "text/plain": [
       "[108327887.0, 107966945.0, 108402907.0, 107344114.0, 107225465.0]"
      ]
     },
     "execution_count": 245,
     "metadata": {},
     "output_type": "execute_result"
    }
   ],
   "source": [
    "[bench_instructions_clang(gen_struct_template_instantiation(0, 200, 200), \"taskset 0x1\", \"cycles\") for i in range(5)]"
   ]
  },
  {
   "cell_type": "code",
   "execution_count": null,
   "metadata": {},
   "outputs": [],
   "source": []
  },
  {
   "cell_type": "code",
   "execution_count": 322,
   "metadata": {},
   "outputs": [],
   "source": [
    "N = 10000\n",
    "x_range = (1.048e8, 1.15e8)"
   ]
  },
  {
   "cell_type": "markdown",
   "metadata": {},
   "source": [
    "### kernel.sched_min_granularity_ns = 999999999"
   ]
  },
  {
   "cell_type": "code",
   "execution_count": 364,
   "metadata": {},
   "outputs": [
    {
     "name": "stdout",
     "output_type": "stream",
     "text": [
      "kernel.sched_min_granularity_ns = 999999999\r\n"
     ]
    }
   ],
   "source": [
    "!sudo /sbin/sysctl -w kernel.sched_min_granularity_ns='999999999'"
   ]
  },
  {
   "cell_type": "code",
   "execution_count": 365,
   "metadata": {},
   "outputs": [
    {
     "data": {
      "application/vnd.jupyter.widget-view+json": {
       "model_id": "58628558935448259de66fa55a5fb633",
       "version_major": 2,
       "version_minor": 0
      },
      "text/plain": [
       "HBox(children=(FloatProgress(value=0.0, max=10000.0), HTML(value='')))"
      ]
     },
     "metadata": {},
     "output_type": "display_data"
    },
    {
     "name": "stdout",
     "output_type": "stream",
     "text": [
      "\n"
     ]
    }
   ],
   "source": [
    "elements_1 = calc_sample(N, \"taskset 0x1\", \"cycles\")"
   ]
  },
  {
   "cell_type": "code",
   "execution_count": 366,
   "metadata": {},
   "outputs": [
    {
     "data": {
      "image/png": "[encoded data removed]",
      "text/plain": [
       "<Figure size 432x288 with 1 Axes>"
      ]
     },
     "metadata": {
      "needs_background": "light"
     },
     "output_type": "display_data"
    }
   ],
   "source": [
    "plot_and_save(elements_1, \"C оптимизацией интервалов в шедулере\", 'bench_sched_opt_10000.png', x_range)"
   ]
  },
  {
   "cell_type": "code",
   "execution_count": 315,
   "metadata": {},
   "outputs": [
    {
     "data": {
      "application/vnd.jupyter.widget-view+json": {
       "model_id": "08955838f1394b0185122b7cf3cb00c9",
       "version_major": 2,
       "version_minor": 0
      },
      "text/plain": [
       "HBox(children=(FloatProgress(value=0.0, max=10000.0), HTML(value='')))"
      ]
     },
     "metadata": {},
     "output_type": "display_data"
    },
    {
     "name": "stderr",
     "output_type": "stream",
     "text": [
      "IOPub message rate exceeded.\n",
      "The notebook server will temporarily stop sending output\n",
      "to the client in order to avoid crashing it.\n",
      "To change this limit, set the config variable\n",
      "`--NotebookApp.iopub_msg_rate_limit`.\n",
      "\n",
      "Current values:\n",
      "NotebookApp.iopub_msg_rate_limit=1000.0 (msgs/sec)\n",
      "NotebookApp.rate_limit_window=3.0 (secs)\n",
      "\n"
     ]
    },
    {
     "name": "stdout",
     "output_type": "stream",
     "text": [
      "\n"
     ]
    }
   ],
   "source": [
    "elements_2 = calc_sample(N, \"taskset 0x4\", \"cycles\")"
   ]
  },
  {
   "cell_type": "code",
   "execution_count": 324,
   "metadata": {
    "scrolled": true
   },
   "outputs": [
    {
     "data": {
      "image/png": "[encoded data removed]",
      "text/plain": [
       "<Figure size 432x288 with 1 Axes>"
      ]
     },
     "metadata": {
      "needs_background": "light"
     },
     "output_type": "display_data"
    }
   ],
   "source": [
    "plot_and_save(elements_2, \"C обеими оптимизациями\", 'bench_all_opt_10000.png', x_range)"
   ]
  },
  {
   "cell_type": "markdown",
   "metadata": {},
   "source": [
    "### kernel.sched_min_granularity_ns = 100000"
   ]
  },
  {
   "cell_type": "code",
   "execution_count": 317,
   "metadata": {},
   "outputs": [
    {
     "name": "stdout",
     "output_type": "stream",
     "text": [
      "kernel.sched_min_granularity_ns = 100000\r\n"
     ]
    }
   ],
   "source": [
    "!sudo /sbin/sysctl -w kernel.sched_min_granularity_ns='100000'"
   ]
  },
  {
   "cell_type": "code",
   "execution_count": 318,
   "metadata": {},
   "outputs": [
    {
     "data": {
      "application/vnd.jupyter.widget-view+json": {
       "model_id": "00fa591c6ef9488eb7c202f11d6f2666",
       "version_major": 2,
       "version_minor": 0
      },
      "text/plain": [
       "HBox(children=(FloatProgress(value=0.0, max=10000.0), HTML(value='')))"
      ]
     },
     "metadata": {},
     "output_type": "display_data"
    },
    {
     "name": "stdout",
     "output_type": "stream",
     "text": [
      "\n"
     ]
    }
   ],
   "source": [
    "elements_3 = calc_sample(N, \"taskset 0x1\", \"cycles\")"
   ]
  },
  {
   "cell_type": "code",
   "execution_count": 325,
   "metadata": {},
   "outputs": [
    {
     "data": {
      "image/png": "[encoded data removed]",
      "text/plain": [
       "<Figure size 432x288 with 1 Axes>"
      ]
     },
     "metadata": {
      "needs_background": "light"
     },
     "output_type": "display_data"
    }
   ],
   "source": [
    "plot_and_save(elements_3, \"Без оптимизаций\", 'bench_no_opt_10000.png', x_range)"
   ]
  },
  {
   "cell_type": "code",
   "execution_count": 320,
   "metadata": {},
   "outputs": [
    {
     "data": {
      "application/vnd.jupyter.widget-view+json": {
       "model_id": "73cbb32c3a2b4ad7a9cfb43d409fd14c",
       "version_major": 2,
       "version_minor": 0
      },
      "text/plain": [
       "HBox(children=(FloatProgress(value=0.0, max=10000.0), HTML(value='')))"
      ]
     },
     "metadata": {},
     "output_type": "display_data"
    },
    {
     "name": "stderr",
     "output_type": "stream",
     "text": [
      "IOPub message rate exceeded.\n",
      "The notebook server will temporarily stop sending output\n",
      "to the client in order to avoid crashing it.\n",
      "To change this limit, set the config variable\n",
      "`--NotebookApp.iopub_msg_rate_limit`.\n",
      "\n",
      "Current values:\n",
      "NotebookApp.iopub_msg_rate_limit=1000.0 (msgs/sec)\n",
      "NotebookApp.rate_limit_window=3.0 (secs)\n",
      "\n",
      "IOPub message rate exceeded.\n",
      "The notebook server will temporarily stop sending output\n",
      "to the client in order to avoid crashing it.\n",
      "To change this limit, set the config variable\n",
      "`--NotebookApp.iopub_msg_rate_limit`.\n",
      "\n",
      "Current values:\n",
      "NotebookApp.iopub_msg_rate_limit=1000.0 (msgs/sec)\n",
      "NotebookApp.rate_limit_window=3.0 (secs)\n",
      "\n",
      "IOPub message rate exceeded.\n",
      "The notebook server will temporarily stop sending output\n",
      "to the client in order to avoid crashing it.\n",
      "To change this limit, set the config variable\n",
      "`--NotebookApp.iopub_msg_rate_limit`.\n",
      "\n",
      "Current values:\n",
      "NotebookApp.iopub_msg_rate_limit=1000.0 (msgs/sec)\n",
      "NotebookApp.rate_limit_window=3.0 (secs)\n",
      "\n"
     ]
    }
   ],
   "source": [
    "elements_4 = calc_sample(N, \"taskset 0x4\", \"cycles\")"
   ]
  },
  {
   "cell_type": "code",
   "execution_count": 326,
   "metadata": {
    "scrolled": true
   },
   "outputs": [
    {
     "data": {
      "image/png": "[encoded data removed]",
      "text/plain": [
       "<Figure size 432x288 with 1 Axes>"
      ]
     },
     "metadata": {
      "needs_background": "light"
     },
     "output_type": "display_data"
    }
   ],
   "source": [
    "plot_and_save(elements_4, \"C оптимизацией выделенного ядра\", 'bench_separate_core_10000.png', x_range)"
   ]
  },
  {
   "cell_type": "markdown",
   "metadata": {},
   "source": [
    "### kernel.sched_min_granularity_ns = 3000000"
   ]
  },
  {
   "cell_type": "code",
   "execution_count": 367,
   "metadata": {},
   "outputs": [
    {
     "name": "stdout",
     "output_type": "stream",
     "text": [
      "kernel.sched_min_granularity_ns = 3000000\r\n"
     ]
    }
   ],
   "source": [
    "!sudo /sbin/sysctl -w kernel.sched_min_granularity_ns='3000000'"
   ]
  },
  {
   "cell_type": "code",
   "execution_count": 368,
   "metadata": {},
   "outputs": [
    {
     "data": {
      "application/vnd.jupyter.widget-view+json": {
       "model_id": "b585b79104624a77b53cd0e2a131e989",
       "version_major": 2,
       "version_minor": 0
      },
      "text/plain": [
       "HBox(children=(FloatProgress(value=0.0, max=10000.0), HTML(value='')))"
      ]
     },
     "metadata": {},
     "output_type": "display_data"
    },
    {
     "name": "stdout",
     "output_type": "stream",
     "text": [
      "\n"
     ]
    }
   ],
   "source": [
    "elements_5 = calc_sample(N, \"taskset 0x1\", \"cycles\")"
   ]
  },
  {
   "cell_type": "code",
   "execution_count": 369,
   "metadata": {},
   "outputs": [
    {
     "data": {
      "image/png": "[encoded data removed]",
      "text/plain": [
       "<Figure size 432x288 with 1 Axes>"
      ]
     },
     "metadata": {
      "needs_background": "light"
     },
     "output_type": "display_data"
    }
   ],
   "source": [
    "plot_and_save(elements_5, \"Без оптимизаций\", 'bench_no_opt_schdef_10000.png', x_range)"
   ]
  },
  {
   "cell_type": "code",
   "execution_count": null,
   "metadata": {},
   "outputs": [],
   "source": [
    "elements_6 = calc_sample(N, \"taskset 0x4\", \"cycles\")"
   ]
  },
  {
   "cell_type": "code",
   "execution_count": 328,
   "metadata": {},
   "outputs": [
    {
     "data": {
      "image/png": "[encoded data removed]",
      "text/plain": [
       "<Figure size 432x288 with 1 Axes>"
      ]
     },
     "metadata": {
      "needs_background": "light"
     },
     "output_type": "display_data"
    }
   ],
   "source": [
    "plot_and_save(elements_6, \"C оптимизацией выделенного ядра\", 'bench_separate_core_schdef_10000.png', x_range)"
   ]
  },
  {
   "cell_type": "code",
   "execution_count": null,
   "metadata": {},
   "outputs": [],
   "source": []
  },
  {
   "cell_type": "code",
   "execution_count": null,
   "metadata": {},
   "outputs": [],
   "source": []
  },
  {
   "cell_type": "markdown",
   "metadata": {},
   "source": [
    "![df](./bench_all_opt.png)\n",
    "![df](./bench_long_sched_opt.png)\n",
    "![df](./bench_separate_core_10000.png)\n",
    "![df](./bench_no_opt_10000.png)"
   ]
  },
  {
   "cell_type": "markdown",
   "metadata": {},
   "source": [
    "Gamma\n",
    "https://ru.wikipedia.org/wiki/%D0%93%D0%B0%D0%BC%D0%BC%D0%B0-%D1%80%D0%B0%D1%81%D0%BF%D1%80%D0%B5%D0%B4%D0%B5%D0%BB%D0%B5%D0%BD%D0%B8%D0%B5\n",
    "\n",
    "$\\mathbb {E} [X]=k{\\theta }$\n",
    "\n",
    "$\\mathbb {D} [X]=k{\\theta ^{2}}$"
   ]
  },
  {
   "cell_type": "code",
   "execution_count": 329,
   "metadata": {},
   "outputs": [
    {
     "data": {
      "text/plain": [
       "(104666842.0, 353220.69283527473, 7.166064331005756)"
      ]
     },
     "execution_count": 329,
     "metadata": {},
     "output_type": "execute_result"
    }
   ],
   "source": [
    "import numpy as np\n",
    "from scipy.stats import gamma\n",
    "\n",
    "shift = np.min(elements)\n",
    "math_e = np.mean(elements) - shift\n",
    "\n",
    "theta = np.var(elements) / math_e\n",
    "k = math_e / theta\n",
    "(shift, theta, k)"
   ]
  },
  {
   "cell_type": "code",
   "execution_count": 330,
   "metadata": {},
   "outputs": [
    {
     "data": {
      "image/png": "[encoded data removed]",
      "text/plain": [
       "<Figure size 432x288 with 1 Axes>"
      ]
     },
     "metadata": {
      "needs_background": "light"
     },
     "output_type": "display_data"
    }
   ],
   "source": [
    "x = np.linspace(2.95e8, 3.04e8, 100)\n",
    "plt.plot(x, gamma.pdf(x, a=k + 3.2, loc=shift, scale=theta / 1.8), 'r-', label='gamma pdf')\n",
    "\n",
    "r = plt.hist(elements, bins=100, density=True)\n",
    "plt.show()"
   ]
  },
  {
   "cell_type": "code",
   "execution_count": 209,
   "metadata": {},
   "outputs": [],
   "source": [
    "r = np.histogram(elements, density=True, bins=100)"
   ]
  },
  {
   "cell_type": "code",
   "execution_count": 311,
   "metadata": {},
   "outputs": [
    {
     "data": {
      "text/plain": [
       "0.06269887777928929"
      ]
     },
     "execution_count": 311,
     "metadata": {},
     "output_type": "execute_result"
    }
   ],
   "source": [
    "np.max(r[0] * np.diff(r[1]) - gamma.pdf(r[1][:-1], a=7.97, loc=2.97e8, scale=1.3e5))"
   ]
  },
  {
   "cell_type": "code",
   "execution_count": 313,
   "metadata": {},
   "outputs": [
    {
     "data": {
      "text/plain": [
       "0.06269999999999999"
      ]
     },
     "execution_count": 313,
     "metadata": {},
     "output_type": "execute_result"
    }
   ],
   "source": [
    "np.max(r[0] * np.diff(r[1]) - gamma.pdf(r[1][:-1], a=7.97, loc=290.99e8, scale=1.3e5))"
   ]
  },
  {
   "cell_type": "code",
   "execution_count": 382,
   "metadata": {},
   "outputs": [
    {
     "name": "stdout",
     "output_type": "stream",
     "text": [
      "[3.54583605e-12 1.10642548e-10 9.77375326e-10 4.57360257e-09\n",
      " 1.45803535e-08 3.59386445e-08 7.36594555e-08 1.31402645e-07\n",
      " 2.10360057e-07 3.08765070e-07 4.22081928e-07 5.43724910e-07\n",
      " 6.66061310e-07 7.81450729e-07 8.83130817e-07 9.65839869e-07\n",
      " 1.02614289e-06 1.06248531e-06 1.07503310e-06 1.06537157e-06\n",
      " 1.03613319e-06 9.90613133e-07 9.32415410e-07 8.65156136e-07\n",
      " 7.92236393e-07 7.16686015e-07 6.41072230e-07 5.67462677e-07\n",
      " 4.97430531e-07 4.32089509e-07 3.72147726e-07 3.17971240e-07\n",
      " 2.69650176e-07 2.27062341e-07 1.89931001e-07 1.57874948e-07\n",
      " 1.30450134e-07 1.07182899e-07 8.75954295e-08 7.12243190e-08\n",
      " 5.76333087e-08 4.64212689e-08 3.72264430e-08 2.97278643e-08\n",
      " 2.36447273e-08 1.87343609e-08 1.47893184e-08 1.16339839e-08\n",
      " 9.12099145e-09 7.12766813e-09 5.55264396e-09 4.31271789e-09\n",
      " 3.34002823e-09 2.57954655e-09 1.98689313e-09 1.52645841e-09\n",
      " 1.16980647e-09 8.94332177e-10 6.82142044e-10 5.19129217e-10\n",
      " 3.94214631e-10 2.98728731e-10 2.25910893e-10 1.70506466e-10\n",
      " 1.28444155e-10 9.65790141e-11 7.24886659e-11 5.43124383e-11\n",
      " 4.06248985e-11 3.03368213e-11 2.26179254e-11 1.68368038e-11\n",
      " 1.25143764e-11 9.28793544e-12 6.88345708e-12 5.09433891e-12\n",
      " 3.76511795e-12 2.77903479e-12 2.04855946e-12 1.50819103e-12\n",
      " 1.10899812e-12 8.14488452e-13 5.97490822e-13 4.37806098e-13\n",
      " 3.20441152e-13 2.34283615e-13 1.71109278e-13 1.24839982e-13\n",
      " 9.09897482e-14 6.62521011e-14 4.81930872e-14 3.50232870e-14\n",
      " 2.54287488e-14 1.84458045e-14 1.33685113e-14 9.68031274e-15\n",
      " 7.00364990e-15 5.06285791e-15 3.65687957e-15 2.63922433e-15]\n"
     ]
    },
    {
     "data": {
      "image/png": "[encoded data removed]",
      "text/plain": [
       "<Figure size 432x288 with 1 Axes>"
      ]
     },
     "metadata": {
      "needs_background": "light"
     },
     "output_type": "display_data"
    }
   ],
   "source": [
    "x = r[1][:-1]\n",
    "plt.plot(x, r[0], label=\"hist\")\n",
    "plt.plot(x, gamma.pdf(r[1][:-1], a=7.97, loc=2.97e8, scale=1.3e5), label=\"pdf\")\n",
    "\n",
    "print(gamma.pdf(r[1][:-1], a=8.98, loc=2.97e8, scale=1.3e5))\n",
    "plt.legend()\n",
    "plt.show()"
   ]
  },
  {
   "cell_type": "code",
   "execution_count": 383,
   "metadata": {},
   "outputs": [],
   "source": [
    "def gamma_loss(arg):\n",
    "    k, shift, theta = arg\n",
    "    shift *= 1e8\n",
    "    theta *= 1e5\n",
    "    distr = gamma.pdf(r[1][:-1] + np.diff(r[1]) / 2, a=k, loc=shift, scale=theta)\n",
    "    delta = r[0] - distr\n",
    "    return np.abs(delta).sum() * 1e7\n",
    "    return (delta ** 2).sum() * 1e15"
   ]
  },
  {
   "cell_type": "code",
   "execution_count": 384,
   "metadata": {},
   "outputs": [
    {
     "data": {
      "text/plain": [
       "57.18200982747694"
      ]
     },
     "execution_count": 384,
     "metadata": {},
     "output_type": "execute_result"
    }
   ],
   "source": [
    "gamma_loss((7.97, 2.97e8, 1.3e5))"
   ]
  },
  {
   "cell_type": "code",
   "execution_count": 385,
   "metadata": {},
   "outputs": [
    {
     "data": {
      "text/plain": [
       "189.54302503465414"
      ]
     },
     "execution_count": 385,
     "metadata": {},
     "output_type": "execute_result"
    }
   ],
   "source": [
    "gamma_loss((7.97, 3.97e8, 1.3e5))"
   ]
  },
  {
   "cell_type": "code",
   "execution_count": 407,
   "metadata": {},
   "outputs": [
    {
     "name": "stdout",
     "output_type": "stream",
     "text": [
      "Warning: Desired error not necessarily achieved due to precision loss.\n",
      "         Current function value: 17.934955\n",
      "         Iterations: 1\n",
      "         Function evaluations: 532\n",
      "         Gradient evaluations: 104\n"
     ]
    },
    {
     "data": {
      "image/png": "[encoded data removed]",
      "text/plain": [
       "<Figure size 720x432 with 1 Axes>"
      ]
     },
     "metadata": {
      "needs_background": "light"
     },
     "output_type": "display_data"
    },
    {
     "data": {
      "text/plain": [
       "      fun: 17.93495514672416\n",
       " hess_inv: array([[ 5.56754265e-05,  0.00000000e+00, -3.02460095e-04],\n",
       "       [ 0.00000000e+00,  1.00000000e+00,  0.00000000e+00],\n",
       "       [-3.02460095e-04,  0.00000000e+00,  9.99999958e-01]])\n",
       "      jac: array([ 0.11347246,  0.        , -0.00020719])\n",
       "  message: 'Desired error not necessarily achieved due to precision loss.'\n",
       "     nfev: 532\n",
       "      nit: 1\n",
       "     njev: 104\n",
       "   status: 2\n",
       "  success: False\n",
       "        x: array([9.9749458e+00, 2.9700000e+08, 1.1600000e+05])"
      ]
     },
     "execution_count": 407,
     "metadata": {},
     "output_type": "execute_result"
    }
   ],
   "source": [
    "from scipy.optimize import minimize\n",
    "\n",
    "res = minimize(gamma_loss, (9.975, 2.97e8, 1.16e5), \n",
    "         #bounds=[(5, 10), (2.95e8, 2.98e8), (0.5e5, 3e5)],\n",
    "         method='BFGS',\n",
    "         options={'disp': True, 'maxiter': 1000})\n",
    "\n",
    "# res = minimize(lambda x: gamma_loss((8.98, x[0], x[1])), (2.97e8, 1.3e5), \n",
    "#           #bounds=[(2.95e8, 2.98e8), (0.5e5, 3e5)],\n",
    "#           method='BFGS',\n",
    "#           options={'disp': True, 'maxiter': 1000})\n",
    "# res.x = (8.98, res.x[0], res.x[1])\n",
    "\n",
    "\n",
    "plt.figure(figsize=(10, 6))\n",
    "x = np.linspace(2.95e8, 3.04e8, 100)\n",
    "plt.plot(x, gamma.pdf(x, a=res.x[0], loc=res.x[1], scale=res.x[2]), 'r-', label='gamma pdf')\n",
    "r = plt.hist(elements, bins=100, density=True)\n",
    "plt.show()\n",
    "\n",
    "res"
   ]
  },
  {
   "cell_type": "code",
   "execution_count": 392,
   "metadata": {},
   "outputs": [
    {
     "data": {
      "text/plain": [
       "array([52758.47000003, 52758.46999997, 52758.47000003, 52758.46999997,\n",
       "       52758.47000003, 52758.46999997, 52758.47000003, 52758.46999997,\n",
       "       52758.47000003, 52758.46999997, 52758.47000003, 52758.46999997,\n",
       "       52758.47000003, 52758.46999997, 52758.47000003, 52758.46999997,\n",
       "       52758.47000003, 52758.46999997, 52758.47000003, 52758.46999997,\n",
       "       52758.47000003, 52758.46999997, 52758.47000003, 52758.46999997,\n",
       "       52758.47000003, 52758.47000003, 52758.46999997, 52758.47000003,\n",
       "       52758.46999997, 52758.47000003, 52758.46999997, 52758.47000003,\n",
       "       52758.46999997, 52758.47000003, 52758.46999997, 52758.47000003,\n",
       "       52758.46999997, 52758.47000003, 52758.46999997, 52758.47000003,\n",
       "       52758.46999997, 52758.47000003, 52758.46999997, 52758.47000003,\n",
       "       52758.46999997, 52758.47000003, 52758.46999997, 52758.47000003,\n",
       "       52758.46999997, 52758.47000003, 52758.47000003, 52758.46999997,\n",
       "       52758.47000003, 52758.46999997, 52758.47000003, 52758.46999997,\n",
       "       52758.47000003, 52758.46999997, 52758.47000003, 52758.46999997,\n",
       "       52758.47000003, 52758.46999997, 52758.47000003, 52758.46999997,\n",
       "       52758.47000003, 52758.46999997, 52758.47000003, 52758.46999997,\n",
       "       52758.47000003, 52758.46999997, 52758.47000003, 52758.46999997,\n",
       "       52758.47000003, 52758.46999997, 52758.47000003, 52758.47000003,\n",
       "       52758.46999997, 52758.47000003, 52758.46999997, 52758.47000003,\n",
       "       52758.46999997, 52758.47000003, 52758.46999997, 52758.47000003,\n",
       "       52758.46999997, 52758.47000003, 52758.46999997, 52758.47000003,\n",
       "       52758.46999997, 52758.47000003, 52758.46999997, 52758.47000003,\n",
       "       52758.46999997, 52758.47000003, 52758.46999997, 52758.47000003,\n",
       "       52758.46999997, 52758.47000003, 52758.46999997, 52758.47000003])"
      ]
     },
     "execution_count": 392,
     "metadata": {},
     "output_type": "execute_result"
    }
   ],
   "source": [
    "np.diff(r[1])"
   ]
  },
  {
   "cell_type": "code",
   "execution_count": 34,
   "metadata": {},
   "outputs": [
    {
     "name": "stdout",
     "output_type": "stream",
     "text": [
      "\n",
      "template <typename T0,typename T1>\n",
      "void function(T0 varT0,T1 varT1) {};\n",
      "\n",
      "int var_1 = (\n",
      "function<char, char>(0, 0),function<int, char>(0, 0)\n",
      ", 0);\n",
      "\n"
     ]
    }
   ],
   "source": [
    "def gen_function_template_params_sample(params_count, use_count):\n",
    "    params = [f\"T{i}\" for i in range(params_count)]\n",
    "    def random_type(i, argn):\n",
    "        if argn < 60:\n",
    "            return \"int\" if (i >> argn) & 1 else \"char\"\n",
    "        return \"int\" if random.random() < 0.5 else \"char\"\n",
    "    types_list = \",\".join(f'typename {t}' for t in params)\n",
    "    decl_args_list = \",\".join(f'{t} var{t}' for t in params)\n",
    "    template_args_lists = [\n",
    "        \", \".join(random_type(i, ti) for ti in range(params_count))\n",
    "        for i in range(use_count)\n",
    "    ]\n",
    "    args_list = \", \".join(\"0\" for t in params)\n",
    "    code = f'''\n",
    "    template <{types_list}>\n",
    "    void function({decl_args_list}) {{}};\n",
    "    \n",
    "    int var_1 = (\n",
    "    ''' + \",\".join(\n",
    "        f\"function<{template_arg_list}>({args_list})\"\n",
    "        for i, template_arg_list in enumerate(template_args_lists)\n",
    "    ) + '''\n",
    "    , 0);\n",
    "    '''\n",
    "    return code.replace(' ' * 4, '')\n",
    "\n",
    "print(gen_function_template_params_sample(2, 2))"
   ]
  },
  {
   "cell_type": "code",
   "execution_count": 39,
   "metadata": {},
   "outputs": [],
   "source": [
    "check_code(gen_function_template_params_sample(2, 2))"
   ]
  },
  {
   "cell_type": "code",
   "execution_count": null,
   "metadata": {},
   "outputs": [],
   "source": []
  },
  {
   "cell_type": "code",
   "execution_count": 357,
   "metadata": {},
   "outputs": [
    {
     "name": "stdout",
     "output_type": "stream",
     "text": [
      "7.770414173252975e-07\n",
      "9.906201464700064e-07\n",
      "6.794129903990938e-06\n",
      "6.048765641778306e-07\n"
     ]
    }
   ],
   "source": [
    "\n",
    "normed_elements = np.array(elements)\n",
    "normed_elements /= normed_elements.mean()\n",
    "\n",
    "def check_metric(metric_f):\n",
    "    vals = [metric_f(np.random.choice(normed_elements, 100)) for i in range(100000)]\n",
    "    return np.var(vals)\n",
    "\n",
    "print(check_metric(np.mean))\n",
    "print(check_metric(lambda a: np.array(np.sort(a))[int(len(a) * 0.5)]))\n",
    "print(check_metric(lambda a: np.array(np.sort(a))[0]))\n",
    "print(check_metric(lambda a: np.array(np.sort(a))[:int(len(a) * 0.75)].mean()))"
   ]
  },
  {
   "cell_type": "code",
   "execution_count": 358,
   "metadata": {},
   "outputs": [
    {
     "data": {
      "application/vnd.jupyter.widget-view+json": {
       "model_id": "c4d7b5abb28a448492ef95058c7c4b7b",
       "version_major": 2,
       "version_minor": 0
      },
      "text/plain": [
       "HBox(children=(FloatProgress(value=0.0, max=20.0), HTML(value='')))"
      ]
     },
     "metadata": {},
     "output_type": "display_data"
    },
    {
     "name": "stdout",
     "output_type": "stream",
     "text": [
      "\n"
     ]
    }
   ],
   "source": [
    "ks = np.arange(0.05, 1.01, 0.05)\n",
    "k_metrics = [\n",
    "    check_metric(lambda a: np.array(np.sort(a))[:int(len(a) * k)].mean()) \n",
    "    for k in tqdm(ks)\n",
    "]"
   ]
  },
  {
   "cell_type": "code",
   "execution_count": 362,
   "metadata": {},
   "outputs": [
    {
     "data": {
      "image/png": "[encoded data removed]",
      "text/plain": [
       "<Figure size 432x288 with 1 Axes>"
      ]
     },
     "metadata": {
      "needs_background": "light"
     },
     "output_type": "display_data"
    },
    {
     "name": "stdout",
     "output_type": "stream",
     "text": [
      "0.7843235841629607\n"
     ]
    }
   ],
   "source": [
    "plt.plot(ks, k_metrics)\n",
    "plt.xticks(np.arange(0.0, 1.01, 0.1))\n",
    "plt.ylim((0.0, 2.5e-6))\n",
    "plt.yticks(np.arange(0.0, 2.51e-6, 0.5e-6))\n",
    "b = 14\n",
    "plt.scatter(ks[b], k_metrics[b], color='r')\n",
    "plt.xlabel(\"Квантиль\")\n",
    "plt.ylabel(\"Погрешность метрики\")\n",
    "plt.tight_layout()\n",
    "plt.subplots_adjust(top=0.88)\n",
    "plt.savefig(\"choosing_k_metric.png\")\n",
    "plt.show()\n",
    "\n",
    "print(k_metrics[b] / k_metrics[-1])"
   ]
  },
  {
   "cell_type": "code",
   "execution_count": null,
   "metadata": {},
   "outputs": [],
   "source": []
  }
 ],
 "metadata": {
  "kernelspec": {
   "display_name": "Python 3",
   "language": "python",
   "name": "python3"
  },
  "language_info": {
   "codemirror_mode": {
    "name": "ipython",
    "version": 3
   },
   "file_extension": ".py",
   "mimetype": "text/x-python",
   "name": "python",
   "nbconvert_exporter": "python",
   "pygments_lexer": "ipython3",
   "version": "3.6.9"
  }
 },
 "nbformat": 4,
 "nbformat_minor": 2
}
